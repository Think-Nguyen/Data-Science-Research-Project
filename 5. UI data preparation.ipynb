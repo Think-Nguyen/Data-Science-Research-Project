{
 "cells": [
  {
   "cell_type": "code",
   "execution_count": 1,
   "id": "fdf6d763",
   "metadata": {},
   "outputs": [],
   "source": [
    "import pandas as pd"
   ]
  },
  {
   "cell_type": "code",
   "execution_count": null,
   "id": "8dae75b2",
   "metadata": {},
   "outputs": [],
   "source": [
    "data = pd.read_csv('data/faers_adalimumab_2020-2024_ungrouped_cleaned.csv')"
   ]
  },
  {
   "cell_type": "code",
   "execution_count": 3,
   "id": "c1b2cac5",
   "metadata": {},
   "outputs": [
    {
     "data": {
      "text/html": [
       "<div>\n",
       "<style scoped>\n",
       "    .dataframe tbody tr th:only-of-type {\n",
       "        vertical-align: middle;\n",
       "    }\n",
       "\n",
       "    .dataframe tbody tr th {\n",
       "        vertical-align: top;\n",
       "    }\n",
       "\n",
       "    .dataframe thead th {\n",
       "        text-align: right;\n",
       "    }\n",
       "</style>\n",
       "<table border=\"1\" class=\"dataframe\">\n",
       "  <thead>\n",
       "    <tr style=\"text-align: right;\">\n",
       "      <th></th>\n",
       "      <th>primaryid</th>\n",
       "      <th>caseid</th>\n",
       "      <th>caseversion</th>\n",
       "      <th>age</th>\n",
       "      <th>age_grp</th>\n",
       "      <th>sex</th>\n",
       "      <th>occp_cod</th>\n",
       "      <th>seq</th>\n",
       "      <th>role_cod</th>\n",
       "      <th>drugname</th>\n",
       "      <th>prod_ai</th>\n",
       "      <th>route</th>\n",
       "      <th>indi_pt</th>\n",
       "      <th>outc_cod</th>\n",
       "      <th>pt</th>\n",
       "      <th>rept_yr</th>\n",
       "      <th>SOC</th>\n",
       "    </tr>\n",
       "  </thead>\n",
       "  <tbody>\n",
       "    <tr>\n",
       "      <th>0</th>\n",
       "      <td>100735935</td>\n",
       "      <td>10073593</td>\n",
       "      <td>5</td>\n",
       "      <td>55.0</td>\n",
       "      <td>adult</td>\n",
       "      <td>female</td>\n",
       "      <td>consumer</td>\n",
       "      <td>1</td>\n",
       "      <td>ps</td>\n",
       "      <td>humira</td>\n",
       "      <td>adalimumab</td>\n",
       "      <td>subcutaneous</td>\n",
       "      <td>rheumatoid arthritis</td>\n",
       "      <td>ot</td>\n",
       "      <td>arterial occlusive disease</td>\n",
       "      <td>2020</td>\n",
       "      <td>Vascular disorders</td>\n",
       "    </tr>\n",
       "  </tbody>\n",
       "</table>\n",
       "</div>"
      ],
      "text/plain": [
       "   primaryid    caseid  caseversion   age age_grp     sex  occp_cod  seq  \\\n",
       "0  100735935  10073593            5  55.0   adult  female  consumer    1   \n",
       "\n",
       "  role_cod drugname     prod_ai         route               indi_pt outc_cod  \\\n",
       "0       ps   humira  adalimumab  subcutaneous  rheumatoid arthritis       ot   \n",
       "\n",
       "                           pt  rept_yr                 SOC  \n",
       "0  arterial occlusive disease     2020  Vascular disorders  "
      ]
     },
     "execution_count": 3,
     "metadata": {},
     "output_type": "execute_result"
    }
   ],
   "source": [
    "data.head(1)"
   ]
  },
  {
   "cell_type": "code",
   "execution_count": 4,
   "id": "18b76b62",
   "metadata": {},
   "outputs": [],
   "source": [
    "# Gather columns \n",
    "group_cols = [col for col in data.columns if col not in ['pt', 'SOC', 'outc_cod']]\n",
    "\n",
    "merged_df = data.groupby(group_cols, as_index=False).agg({\n",
    "    'outc_cod': lambda x: list(x),\n",
    "    'pt': lambda x: list(x),\n",
    "    'SOC': lambda x: list(x)\n",
    "})\n",
    "\n",
    "# Drop duplicates in lists\n",
    "merged_df['outc_cod'] = merged_df['outc_cod'].apply(lambda x: list(dict.fromkeys(x)))\n",
    "merged_df['pt'] = merged_df['pt'].apply(lambda x: list(dict.fromkeys(x)))\n",
    "merged_df['SOC'] = merged_df['SOC'].apply(lambda x: list(dict.fromkeys(x)))"
   ]
  },
  {
   "cell_type": "code",
   "execution_count": 5,
   "id": "96fb6609",
   "metadata": {},
   "outputs": [
    {
     "name": "stdout",
     "output_type": "stream",
     "text": [
      "<class 'pandas.core.frame.DataFrame'>\n",
      "RangeIndex: 235659 entries, 0 to 235658\n",
      "Data columns (total 17 columns):\n",
      " #   Column       Non-Null Count   Dtype  \n",
      "---  ------       --------------   -----  \n",
      " 0   primaryid    235659 non-null  int64  \n",
      " 1   caseid       235659 non-null  int64  \n",
      " 2   caseversion  235659 non-null  int64  \n",
      " 3   age          235659 non-null  float64\n",
      " 4   age_grp      235659 non-null  object \n",
      " 5   sex          235659 non-null  object \n",
      " 6   occp_cod     235659 non-null  object \n",
      " 7   seq          235659 non-null  int64  \n",
      " 8   role_cod     235659 non-null  object \n",
      " 9   drugname     235659 non-null  object \n",
      " 10  prod_ai      235659 non-null  object \n",
      " 11  route        235659 non-null  object \n",
      " 12  indi_pt      235659 non-null  object \n",
      " 13  rept_yr      235659 non-null  int64  \n",
      " 14  outc_cod     235659 non-null  object \n",
      " 15  pt           235659 non-null  object \n",
      " 16  SOC          235659 non-null  object \n",
      "dtypes: float64(1), int64(5), object(11)\n",
      "memory usage: 30.6+ MB\n"
     ]
    }
   ],
   "source": [
    "merged_df.info()"
   ]
  },
  {
   "cell_type": "code",
   "execution_count": 6,
   "id": "080b50dd",
   "metadata": {},
   "outputs": [],
   "source": [
    "# Save the data\n",
    "merged_df.to_csv('data/faers_adalimumab_2020-2024_UI.csv', index=False)"
   ]
  },
  {
   "cell_type": "code",
   "execution_count": 7,
   "id": "3d67eb77",
   "metadata": {},
   "outputs": [],
   "source": [
    "# Sampling the data\n",
    "sampled_df = merged_df.sample(n=1000, random_state=42)\n",
    "sampled_df.to_csv('data/faers_adalimumab_2020-2024_UI_sampled.csv', index=False)"
   ]
  }
 ],
 "metadata": {
  "kernelspec": {
   "display_name": "NLP",
   "language": "python",
   "name": "python3"
  },
  "language_info": {
   "codemirror_mode": {
    "name": "ipython",
    "version": 3
   },
   "file_extension": ".py",
   "mimetype": "text/x-python",
   "name": "python",
   "nbconvert_exporter": "python",
   "pygments_lexer": "ipython3",
   "version": "3.12.8"
  }
 },
 "nbformat": 4,
 "nbformat_minor": 5
}
