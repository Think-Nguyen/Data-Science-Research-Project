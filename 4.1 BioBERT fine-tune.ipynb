{
 "cells": [
  {
   "cell_type": "code",
   "execution_count": 1,
   "metadata": {},
   "outputs": [
    {
     "name": "stderr",
     "output_type": "stream",
     "text": [
      "c:\\Users\\nguye\\anaconda3\\envs\\NLP\\Lib\\site-packages\\tqdm\\auto.py:21: TqdmWarning: IProgress not found. Please update jupyter and ipywidgets. See https://ipywidgets.readthedocs.io/en/stable/user_install.html\n",
      "  from .autonotebook import tqdm as notebook_tqdm\n"
     ]
    }
   ],
   "source": [
    "import pandas as pd\n",
    "import numpy as np\n",
    "\n",
    "from sklearn.model_selection import train_test_split\n",
    "from sklearn.preprocessing import LabelEncoder\n",
    "from sklearn.metrics import classification_report\n",
    "\n",
    "from datasets import Dataset\n",
    "from transformers import AutoTokenizer, AutoModelForSequenceClassification, Trainer, TrainingArguments"
   ]
  },
  {
   "cell_type": "code",
   "execution_count": 2,
   "metadata": {},
   "outputs": [],
   "source": [
    "df = pd.read_csv('data/faers_adalimumab_2020-2024_ungrouped_cleaned_2.csv', low_memory=False)"
   ]
  },
  {
   "cell_type": "code",
   "execution_count": 3,
   "metadata": {},
   "outputs": [],
   "source": [
    "# Prepare labeled dataset only\n",
    "df_labeled = df[df['SOC'].notna()].drop_duplicates(subset=['pt']).copy()\n",
    "df_labeled = df_labeled[df_labeled['pt'].notna() & (df_labeled['pt'].str.strip() != '')]"
   ]
  },
  {
   "cell_type": "code",
   "execution_count": 4,
   "metadata": {},
   "outputs": [],
   "source": [
    "# Encode labels\n",
    "le = LabelEncoder()\n",
    "df_labeled['label'] = le.fit_transform(df_labeled['SOC'])\n",
    "num_labels = len(le.classes_)"
   ]
  },
  {
   "cell_type": "code",
   "execution_count": 5,
   "metadata": {},
   "outputs": [],
   "source": [
    "train_df, val_df = train_test_split(df_labeled, test_size=0.2, stratify=df_labeled['label'], random_state=42)"
   ]
  },
  {
   "cell_type": "code",
   "execution_count": 6,
   "metadata": {},
   "outputs": [
    {
     "name": "stderr",
     "output_type": "stream",
     "text": [
      "Map: 100%|██████████| 6522/6522 [00:00<00:00, 14864.54 examples/s]\n",
      "Map: 100%|██████████| 1631/1631 [00:00<00:00, 16212.22 examples/s]\n"
     ]
    }
   ],
   "source": [
    "# Tokenize\n",
    "tokenizer = AutoTokenizer.from_pretrained('dmis-lab/biobert-base-cased-v1.1')\n",
    "\n",
    "def tokenize(example):\n",
    "    return tokenizer(example['pt'], truncation=True, padding='max_length', max_length=128)\n",
    "\n",
    "train_ds = Dataset.from_pandas(train_df[['pt', 'label']]).map(tokenize, batched=True)\n",
    "val_ds = Dataset.from_pandas(val_df[['pt', 'label']]).map(tokenize, batched=True)\n",
    "\n",
    "train_ds.set_format(type='torch', columns=['input_ids', 'attention_mask', 'label'])\n",
    "val_ds.set_format(type='torch', columns=['input_ids', 'attention_mask', 'label'])"
   ]
  },
  {
   "cell_type": "code",
   "execution_count": 7,
   "metadata": {},
   "outputs": [
    {
     "name": "stderr",
     "output_type": "stream",
     "text": [
      "Some weights of BertForSequenceClassification were not initialized from the model checkpoint at dmis-lab/biobert-base-cased-v1.1 and are newly initialized: ['classifier.bias', 'classifier.weight']\n",
      "You should probably TRAIN this model on a down-stream task to be able to use it for predictions and inference.\n"
     ]
    }
   ],
   "source": [
    "num_labels = len(le.classes_)\n",
    "model = AutoModelForSequenceClassification.from_pretrained('dmis-lab/biobert-base-cased-v1.1', num_labels=num_labels)"
   ]
  },
  {
   "cell_type": "code",
   "execution_count": 8,
   "metadata": {},
   "outputs": [],
   "source": [
    "def compute_metrics(pred):\n",
    "    labels = pred.label_ids\n",
    "    preds = np.argmax(pred.predictions, axis=1)\n",
    "    return {'accuracy': (preds == labels).mean()}"
   ]
  },
  {
   "cell_type": "code",
   "execution_count": 9,
   "metadata": {},
   "outputs": [
    {
     "data": {
      "text/html": [
       "\n",
       "    <div>\n",
       "      \n",
       "      <progress value='2040' max='2040' style='width:300px; height:20px; vertical-align: middle;'></progress>\n",
       "      [2040/2040 3:04:01, Epoch 5/5]\n",
       "    </div>\n",
       "    <table border=\"1\" class=\"dataframe\">\n",
       "  <thead>\n",
       " <tr style=\"text-align: left;\">\n",
       "      <th>Epoch</th>\n",
       "      <th>Training Loss</th>\n",
       "      <th>Validation Loss</th>\n",
       "      <th>Accuracy</th>\n",
       "    </tr>\n",
       "  </thead>\n",
       "  <tbody>\n",
       "    <tr>\n",
       "      <td>1</td>\n",
       "      <td>0.969200</td>\n",
       "      <td>0.780633</td>\n",
       "      <td>0.836910</td>\n",
       "    </tr>\n",
       "    <tr>\n",
       "      <td>2</td>\n",
       "      <td>0.303300</td>\n",
       "      <td>0.465603</td>\n",
       "      <td>0.900674</td>\n",
       "    </tr>\n",
       "    <tr>\n",
       "      <td>3</td>\n",
       "      <td>0.118800</td>\n",
       "      <td>0.388739</td>\n",
       "      <td>0.917229</td>\n",
       "    </tr>\n",
       "    <tr>\n",
       "      <td>4</td>\n",
       "      <td>0.074100</td>\n",
       "      <td>0.361457</td>\n",
       "      <td>0.926426</td>\n",
       "    </tr>\n",
       "    <tr>\n",
       "      <td>5</td>\n",
       "      <td>0.121400</td>\n",
       "      <td>0.357949</td>\n",
       "      <td>0.927039</td>\n",
       "    </tr>\n",
       "  </tbody>\n",
       "</table><p>"
      ],
      "text/plain": [
       "<IPython.core.display.HTML object>"
      ]
     },
     "metadata": {},
     "output_type": "display_data"
    },
    {
     "data": {
      "text/plain": [
       "TrainOutput(global_step=2040, training_loss=0.5661450909194993, metrics={'train_runtime': 11046.7822, 'train_samples_per_second': 2.952, 'train_steps_per_second': 0.185, 'total_flos': 2145494358950400.0, 'train_loss': 0.5661450909194993, 'epoch': 5.0})"
      ]
     },
     "execution_count": 9,
     "metadata": {},
     "output_type": "execute_result"
    }
   ],
   "source": [
    "# Train the model\n",
    "training_args = TrainingArguments(\n",
    "    output_dir='data/results_biobert_finetune',\n",
    "    eval_strategy='epoch',\n",
    "    save_strategy='epoch',\n",
    "    learning_rate=2e-5,\n",
    "    per_device_train_batch_size=16,\n",
    "    per_device_eval_batch_size=32,\n",
    "    num_train_epochs=5,\n",
    "    weight_decay=0.01,\n",
    "    logging_dir='data/logs',\n",
    "    logging_steps=10,\n",
    "    load_best_model_at_end=True,\n",
    "    metric_for_best_model='accuracy',\n",
    ")\n",
    "\n",
    "trainer = Trainer(\n",
    "    model=model,\n",
    "    args=training_args,\n",
    "    train_dataset=train_ds,\n",
    "    eval_dataset=val_ds,\n",
    "    compute_metrics=compute_metrics\n",
    ")\n",
    "\n",
    "trainer.train()"
   ]
  },
  {
   "cell_type": "code",
   "execution_count": 10,
   "metadata": {},
   "outputs": [
    {
     "data": {
      "text/plain": [
       "('biobert-finetuned\\\\tokenizer_config.json',\n",
       " 'biobert-finetuned\\\\special_tokens_map.json',\n",
       " 'biobert-finetuned\\\\vocab.txt',\n",
       " 'biobert-finetuned\\\\added_tokens.json',\n",
       " 'biobert-finetuned\\\\tokenizer.json')"
      ]
     },
     "execution_count": 10,
     "metadata": {},
     "output_type": "execute_result"
    }
   ],
   "source": [
    "trainer.save_model('biobert-finetuned')\n",
    "tokenizer.save_pretrained('biobert-finetuned')"
   ]
  },
  {
   "cell_type": "code",
   "execution_count": 11,
   "metadata": {},
   "outputs": [
    {
     "data": {
      "text/html": [],
      "text/plain": [
       "<IPython.core.display.HTML object>"
      ]
     },
     "metadata": {},
     "output_type": "display_data"
    },
    {
     "name": "stdout",
     "output_type": "stream",
     "text": [
      "                                                                     precision    recall  f1-score   support\n",
      "\n",
      "                               Blood and lymphatic system disorders       1.00      0.78      0.88         9\n",
      "                                                  Cardiac disorders       0.95      0.95      0.95        37\n",
      "                         Congenital, familial and genetic disorders       0.88      0.82      0.85        17\n",
      "                                        Ear and labyrinth disorders       1.00      0.89      0.94         9\n",
      "                                                Endocrine disorders       0.90      0.90      0.90        10\n",
      "                                                      Eye disorders       0.85      0.95      0.90        59\n",
      "                                         Gastrointestinal disorders       0.95      0.92      0.94       114\n",
      "               General disorders and administration site conditions       0.86      0.88      0.87       112\n",
      "                                            Hepatobiliary disorders       0.95      1.00      0.98        21\n",
      "                                            Immune system disorders       0.78      0.64      0.70        22\n",
      "                                        Infections and infestations       0.91      0.97      0.94       140\n",
      "                     Injury, poisoning and procedural complications       0.96      0.86      0.91        56\n",
      "                                                     Investigations       0.98      0.96      0.97       199\n",
      "                                 Metabolism and nutrition disorders       0.92      0.87      0.89        38\n",
      "                    Musculoskeletal and connective tissue disorders       0.95      0.94      0.95        83\n",
      "Neoplasms benign, malignant and unspecified (incl cysts and polyps)       0.97      0.98      0.97       159\n",
      "                                           Nervous system disorders       0.91      0.92      0.91        84\n",
      "                     Pregnancy, puerperium and perinatal conditions       0.92      0.80      0.86        30\n",
      "                                                     Product issues       0.90      0.90      0.90        20\n",
      "                                              Psychiatric disorders       0.74      0.97      0.84        30\n",
      "                                        Renal and urinary disorders       1.00      0.95      0.98        42\n",
      "                           Reproductive system and breast disorders       0.98      0.96      0.97        46\n",
      "                    Respiratory, thoracic and mediastinal disorders       0.94      0.98      0.96        52\n",
      "                             Skin and subcutaneous tissue disorders       0.96      0.85      0.90        60\n",
      "                                               Social circumstances       0.80      0.73      0.76        11\n",
      "                                    Surgical and medical procedures       0.93      0.96      0.94       115\n",
      "                                                 Vascular disorders       0.84      0.88      0.86        56\n",
      "\n",
      "                                                           accuracy                           0.93      1631\n",
      "                                                          macro avg       0.92      0.90      0.90      1631\n",
      "                                                       weighted avg       0.93      0.93      0.93      1631\n",
      "\n"
     ]
    }
   ],
   "source": [
    "# Evaluate the model\n",
    "outputs = trainer.predict(val_ds)\n",
    "y_val_pred = np.argmax(outputs.predictions, axis=1)\n",
    "y_val_true = val_df['label'].values\n",
    "\n",
    "print(classification_report(y_val_true, y_val_pred, target_names=le.classes_))"
   ]
  },
  {
   "cell_type": "code",
   "execution_count": 12,
   "metadata": {},
   "outputs": [
    {
     "name": "stderr",
     "output_type": "stream",
     "text": [
      "Map: 100%|██████████| 1132/1132 [00:00<00:00, 6043.39 examples/s]\n"
     ]
    }
   ],
   "source": [
    "# Test data preprocessing\n",
    "test_df = df[df['SOC'].isna()].drop_duplicates(subset=['pt']).copy()\n",
    "test_df = test_df[test_df['pt'].notna() & (test_df['pt'].str.strip() != '')]\n",
    "test_df = test_df.reset_index(drop=True)\n",
    "\n",
    "test_ds = Dataset.from_dict({'pt': test_df['pt'].tolist()}).map(tokenize, batched=True)\n",
    "test_ds.set_format(type='torch', columns=['input_ids', 'attention_mask'])"
   ]
  },
  {
   "cell_type": "code",
   "execution_count": 13,
   "metadata": {},
   "outputs": [],
   "source": [
    "# # Predict\n",
    "# test_outputs = trainer.predict(test_ds)\n",
    "# test_pred_labels = np.argmax(test_outputs.predictions, axis=1)\n",
    "\n",
    "# test_pred_socs = le.inverse_transform(test_pred_labels)\n",
    "# test_df['SOC_biobert'] = test_pred_socs"
   ]
  },
  {
   "cell_type": "code",
   "execution_count": 14,
   "metadata": {},
   "outputs": [],
   "source": [
    "# # Save predictions to CSV\n",
    "# test_df[['pt', 'SOC_biobert']].to_csv('data/4.2 BioBERT_predictions.csv', index=False)"
   ]
  }
 ],
 "metadata": {
  "kernelspec": {
   "display_name": "NLP",
   "language": "python",
   "name": "python3"
  },
  "language_info": {
   "codemirror_mode": {
    "name": "ipython",
    "version": 3
   },
   "file_extension": ".py",
   "mimetype": "text/x-python",
   "name": "python",
   "nbconvert_exporter": "python",
   "pygments_lexer": "ipython3",
   "version": "3.12.8"
  }
 },
 "nbformat": 4,
 "nbformat_minor": 2
}
