{
 "cells": [
  {
   "cell_type": "code",
   "execution_count": null,
   "metadata": {},
   "outputs": [
    {
     "name": "stderr",
     "output_type": "stream",
     "text": [
      "c:\\Users\\nguye\\anaconda3\\envs\\NLP\\Lib\\site-packages\\tqdm\\auto.py:21: TqdmWarning: IProgress not found. Please update jupyter and ipywidgets. See https://ipywidgets.readthedocs.io/en/stable/user_install.html\n",
      "  from .autonotebook import tqdm as notebook_tqdm\n"
     ]
    }
   ],
   "source": [
    "import pandas as pd\n",
    "import numpy as np\n",
    "import torch\n",
    "import re\n",
    "from tqdm import tqdm\n",
    "\n",
    "from transformers import AutoTokenizer, AutoModel\n",
    "from sklearn.model_selection import train_test_split\n",
    "from sklearn.preprocessing import LabelEncoder, StandardScaler\n",
    "from sklearn.pipeline import Pipeline\n",
    "from sklearn.metrics import classification_report\n",
    "from sklearn.ensemble import RandomForestClassifier, VotingClassifier\n",
    "from sklearn.svm import SVC\n",
    "from sklearn.neural_network import MLPClassifier\n",
    "from sklearn.neighbors import KNeighborsClassifier\n",
    "from sklearn.semi_supervised import SelfTrainingClassifier\n",
    "from scipy.stats import mode"
   ]
  },
  {
   "cell_type": "code",
   "execution_count": 2,
   "metadata": {},
   "outputs": [],
   "source": [
    "df = pd.read_csv('data/faers_adalimumab_2020-2024_ungrouped_cleaned_2.csv', low_memory=False)"
   ]
  },
  {
   "cell_type": "code",
   "execution_count": null,
   "metadata": {},
   "outputs": [
    {
     "data": {
      "text/plain": [
       "(7880, 1083)"
      ]
     },
     "execution_count": 3,
     "metadata": {},
     "output_type": "execute_result"
    }
   ],
   "source": [
    "data = df[['pt', 'SOC']].copy()\n",
    "data = data.drop_duplicates(subset=['pt'])\n",
    "\n",
    "# Split the data into training and test sets\n",
    "data_bigtrain = data[data['SOC'].notna()].copy()\n",
    "data_test = data[data['SOC'].isna()].copy()\n",
    "data_test['missing_SOC'] = True\n",
    "\n",
    "len(data_bigtrain), len(data_test)"
   ]
  },
  {
   "cell_type": "code",
   "execution_count": 4,
   "metadata": {},
   "outputs": [],
   "source": [
    "train_df, val_df = train_test_split(data_bigtrain, test_size=0.2, stratify=data_bigtrain['SOC'], random_state=42)"
   ]
  },
  {
   "cell_type": "code",
   "execution_count": 5,
   "metadata": {},
   "outputs": [
    {
     "data": {
      "text/plain": [
       "BertModel(\n",
       "  (embeddings): BertEmbeddings(\n",
       "    (word_embeddings): Embedding(28996, 768, padding_idx=0)\n",
       "    (position_embeddings): Embedding(512, 768)\n",
       "    (token_type_embeddings): Embedding(2, 768)\n",
       "    (LayerNorm): LayerNorm((768,), eps=1e-12, elementwise_affine=True)\n",
       "    (dropout): Dropout(p=0.1, inplace=False)\n",
       "  )\n",
       "  (encoder): BertEncoder(\n",
       "    (layer): ModuleList(\n",
       "      (0-11): 12 x BertLayer(\n",
       "        (attention): BertAttention(\n",
       "          (self): BertSdpaSelfAttention(\n",
       "            (query): Linear(in_features=768, out_features=768, bias=True)\n",
       "            (key): Linear(in_features=768, out_features=768, bias=True)\n",
       "            (value): Linear(in_features=768, out_features=768, bias=True)\n",
       "            (dropout): Dropout(p=0.1, inplace=False)\n",
       "          )\n",
       "          (output): BertSelfOutput(\n",
       "            (dense): Linear(in_features=768, out_features=768, bias=True)\n",
       "            (LayerNorm): LayerNorm((768,), eps=1e-12, elementwise_affine=True)\n",
       "            (dropout): Dropout(p=0.1, inplace=False)\n",
       "          )\n",
       "        )\n",
       "        (intermediate): BertIntermediate(\n",
       "          (dense): Linear(in_features=768, out_features=3072, bias=True)\n",
       "          (intermediate_act_fn): GELUActivation()\n",
       "        )\n",
       "        (output): BertOutput(\n",
       "          (dense): Linear(in_features=3072, out_features=768, bias=True)\n",
       "          (LayerNorm): LayerNorm((768,), eps=1e-12, elementwise_affine=True)\n",
       "          (dropout): Dropout(p=0.1, inplace=False)\n",
       "        )\n",
       "      )\n",
       "    )\n",
       "  )\n",
       "  (pooler): BertPooler(\n",
       "    (dense): Linear(in_features=768, out_features=768, bias=True)\n",
       "    (activation): Tanh()\n",
       "  )\n",
       ")"
      ]
     },
     "execution_count": 5,
     "metadata": {},
     "output_type": "execute_result"
    }
   ],
   "source": [
    "tokenizer = AutoTokenizer.from_pretrained(\"dmis-lab/biobert-base-cased-v1.1\")\n",
    "model = AutoModel.from_pretrained(\"dmis-lab/biobert-base-cased-v1.1\")\n",
    "model.eval()"
   ]
  },
  {
   "cell_type": "code",
   "execution_count": 6,
   "metadata": {},
   "outputs": [
    {
     "name": "stderr",
     "output_type": "stream",
     "text": [
      "100%|██████████| 6304/6304 [04:43<00:00, 22.22it/s]\n",
      "100%|██████████| 1576/1576 [01:09<00:00, 22.55it/s]\n",
      "100%|██████████| 1083/1083 [00:46<00:00, 23.08it/s]\n"
     ]
    }
   ],
   "source": [
    "def get_embedding(text):\n",
    "    inputs = tokenizer(text, return_tensors=\"pt\", truncation=True, max_length=128)\n",
    "    with torch.no_grad():\n",
    "        outputs = model(**inputs)\n",
    "    return outputs.last_hidden_state[0, 0].numpy()\n",
    "\n",
    "tqdm.pandas()\n",
    "for df_ in [train_df, val_df, data_test]:\n",
    "    df_['embedding'] = df_['pt'].progress_apply(get_embedding)"
   ]
  },
  {
   "cell_type": "code",
   "execution_count": null,
   "metadata": {},
   "outputs": [],
   "source": [
    "label_encoder = LabelEncoder()\n",
    "y_train = label_encoder.fit_transform(train_df['SOC'])\n",
    "y_val = label_encoder.transform(val_df['SOC'])\n",
    "\n",
    "X_train = np.stack(train_df['embedding'].values)\n",
    "X_val = np.stack(val_df['embedding'].values)\n",
    "X_test = np.stack(data_test['embedding'].values)"
   ]
  },
  {
   "cell_type": "code",
   "execution_count": 8,
   "metadata": {},
   "outputs": [],
   "source": [
    "# Prepare for Self-Training\n",
    "X_all = np.vstack([X_train, X_test])\n",
    "y_semi = np.concatenate([y_train, [-1] * len(X_test)])"
   ]
  },
  {
   "cell_type": "code",
   "execution_count": 9,
   "metadata": {},
   "outputs": [],
   "source": [
    "svm = Pipeline([\n",
    "    (\"scaler\", StandardScaler()),\n",
    "    (\"svm\", SVC(kernel='rbf', C=1.0, gamma='scale', probability=True, class_weight='balanced'))\n",
    "])\n",
    "\n",
    "rf = RandomForestClassifier(n_estimators=200, max_depth=20, class_weight='balanced', random_state=42)\n",
    "\n",
    "mlp = Pipeline([\n",
    "    (\"scaler\", StandardScaler()),\n",
    "    (\"mlp\", MLPClassifier(hidden_layer_sizes=(256, 128, 64), alpha=1e-4,\n",
    "                          learning_rate='adaptive', max_iter=500,\n",
    "                          early_stopping=True, validation_fraction=0.1, random_state=42))\n",
    "])\n",
    "\n",
    "knn = Pipeline([\n",
    "    (\"scaler\", StandardScaler()),\n",
    "    (\"knn\", KNeighborsClassifier(n_neighbors=27))\n",
    "])"
   ]
  },
  {
   "cell_type": "code",
   "execution_count": null,
   "metadata": {},
   "outputs": [
    {
     "name": "stdout",
     "output_type": "stream",
     "text": [
      "\n",
      "Training self-training model: mlp\n",
      "\n",
      "Training self-training model: svm\n",
      "\n",
      "Training self-training model: rf\n",
      "\n",
      "Training self-training model: knn\n"
     ]
    }
   ],
   "source": [
    "# Train self-training classifiers\n",
    "self_train_models = {}\n",
    "for name, base_model in zip([\"svm\", \"rf\", \"mlp\", \"knn\"], [svm, rf, mlp, knn]):\n",
    "    print(f\"Training self-training model: {name}\")\n",
    "    clf = SelfTrainingClassifier(base_model, criterion='k_best', k_best=500)\n",
    "    clf.fit(X_all, y_semi)\n",
    "    self_train_models[name] = clf"
   ]
  },
  {
   "cell_type": "code",
   "execution_count": null,
   "metadata": {},
   "outputs": [],
   "source": [
    "# Pseudo-label the test set\n",
    "pseudo_labels = {\n",
    "    name: model.predict(X_test)\n",
    "    for name, model in self_train_models.items()\n",
    "}\n",
    "\n",
    "pseudo_label_array = np.column_stack(list(pseudo_labels.values()))\n",
    "final_pseudo_labels, _ = mode(pseudo_label_array, axis=1)\n",
    "final_pseudo_labels = final_pseudo_labels.flatten()"
   ]
  },
  {
   "cell_type": "code",
   "execution_count": null,
   "metadata": {},
   "outputs": [],
   "source": [
    "# Combine the training and pseudo-labeled data\n",
    "X_combined = np.vstack([X_train, X_test])\n",
    "y_combined = np.concatenate([y_train, final_pseudo_labels])"
   ]
  },
  {
   "cell_type": "markdown",
   "metadata": {},
   "source": [
    "## Voting Ensemble"
   ]
  },
  {
   "cell_type": "code",
   "execution_count": null,
   "metadata": {},
   "outputs": [],
   "source": [
    "voting_ensemble = VotingClassifier(\n",
    "    estimators=[\n",
    "        (\"svm\", self_train_models[\"svm\"].base_estimator),\n",
    "        (\"rf\", self_train_models[\"rf\"].base_estimator),\n",
    "        (\"mlp\", self_train_models[\"mlp\"].base_estimator),\n",
    "        (\"knn\", self_train_models[\"knn\"].base_estimator)\n",
    "    ],\n",
    "    voting='soft',\n",
    "    weights=[2, 1, 2, 1],\n",
    "    n_jobs=-1\n",
    ")\n",
    "\n",
    "voting_ensemble.fit(X_combined, y_combined)"
   ]
  },
  {
   "cell_type": "code",
   "execution_count": null,
   "metadata": {},
   "outputs": [],
   "source": [
    "# Evaluate on validation set\n",
    "y_val_pred = voting_ensemble.predict(X_val)\n",
    "\n",
    "all_labels = np.unique(np.concatenate([y_val, y_val_pred]))\n",
    "all_class_names = label_encoder.inverse_transform(all_labels)\n",
    "\n",
    "print(\"Voting Ensemble Results:\")\n",
    "print(classification_report(y_val, y_val_pred, labels=all_labels, target_names=all_class_names))"
   ]
  },
  {
   "cell_type": "code",
   "execution_count": null,
   "metadata": {},
   "outputs": [],
   "source": [
    "# Predict on the test set\n",
    "y_test_final = voting_ensemble.predict(X_test)\n",
    "data_test['SOC'] = label_encoder.inverse_transform(y_test_final)"
   ]
  },
  {
   "cell_type": "code",
   "execution_count": null,
   "metadata": {},
   "outputs": [],
   "source": []
  }
 ],
 "metadata": {
  "kernelspec": {
   "display_name": "NLP",
   "language": "python",
   "name": "python3"
  },
  "language_info": {
   "codemirror_mode": {
    "name": "ipython",
    "version": 3
   },
   "file_extension": ".py",
   "mimetype": "text/x-python",
   "name": "python",
   "nbconvert_exporter": "python",
   "pygments_lexer": "ipython3",
   "version": "3.12.8"
  }
 },
 "nbformat": 4,
 "nbformat_minor": 2
}
