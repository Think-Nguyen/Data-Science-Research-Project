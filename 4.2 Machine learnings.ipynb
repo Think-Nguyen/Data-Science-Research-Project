{
 "cells": [
  {
   "cell_type": "code",
   "execution_count": 1,
   "id": "4a672469",
   "metadata": {},
   "outputs": [
    {
     "name": "stderr",
     "output_type": "stream",
     "text": [
      "c:\\Users\\nguye\\anaconda3\\envs\\NLP\\Lib\\site-packages\\tqdm\\auto.py:21: TqdmWarning: IProgress not found. Please update jupyter and ipywidgets. See https://ipywidgets.readthedocs.io/en/stable/user_install.html\n",
      "  from .autonotebook import tqdm as notebook_tqdm\n"
     ]
    }
   ],
   "source": [
    "import pandas as pd\n",
    "import torch\n",
    "import numpy as np\n",
    "import re\n",
    "\n",
    "from sklearn.linear_model import LogisticRegression\n",
    "from sklearn.svm import SVC\n",
    "from sklearn.neighbors import KNeighborsClassifier\n",
    "from sklearn.ensemble import RandomForestClassifier\n",
    "from sklearn.model_selection import GridSearchCV\n",
    "from sklearn.metrics import accuracy_score\n",
    "\n",
    "from sklearn.model_selection import train_test_split\n",
    "from transformers import AutoTokenizer, AutoModel\n",
    "from sklearn.preprocessing import LabelEncoder\n",
    "from tqdm import tqdm\n",
    "\n",
    "import warnings\n",
    "warnings.filterwarnings('ignore')"
   ]
  },
  {
   "cell_type": "code",
   "execution_count": 2,
   "id": "d1e8d75b",
   "metadata": {},
   "outputs": [],
   "source": [
    "# Load data\n",
    "df = pd.read_csv('data/faers_adalimumab_2020-2024_ungrouped_cleaned_2.csv', low_memory=False)"
   ]
  },
  {
   "cell_type": "code",
   "execution_count": 3,
   "id": "5175d83c",
   "metadata": {},
   "outputs": [],
   "source": [
    "data = df[['pt', 'SOC']].copy()\n",
    "data = data.drop_duplicates(subset=['pt', 'SOC'])"
   ]
  },
  {
   "cell_type": "code",
   "execution_count": 4,
   "id": "1efcd72c",
   "metadata": {},
   "outputs": [],
   "source": [
    "def clean_text(text):\n",
    "    text = str(text).lower()                    # Lowercase\n",
    "    text = re.sub(r'[^a-z0-9\\s]', '', text)     # Remove punctuation/special chars\n",
    "    text = re.sub(r'\\s+', ' ', text).strip()    # Normalize whitespace\n",
    "    return text\n",
    "\n",
    "data['pt_cleaned'] = data['pt'].apply(clean_text)"
   ]
  },
  {
   "cell_type": "code",
   "execution_count": 5,
   "id": "21e164a8",
   "metadata": {},
   "outputs": [],
   "source": [
    "# Split into bigtrain (with labels) and test (missing labels)\n",
    "data_bigtrain = data[data['SOC'].notna()].copy()\n",
    "data_test = data[data['SOC'].isna()].copy()\n",
    "data_test['missing_SOC'] = True"
   ]
  },
  {
   "cell_type": "code",
   "execution_count": 6,
   "id": "3915dcc7",
   "metadata": {},
   "outputs": [
    {
     "data": {
      "text/plain": [
       "(8153, 1132)"
      ]
     },
     "execution_count": 6,
     "metadata": {},
     "output_type": "execute_result"
    }
   ],
   "source": [
    "len(data_bigtrain), len(data_test)"
   ]
  },
  {
   "cell_type": "code",
   "execution_count": 7,
   "id": "931b0fb1",
   "metadata": {},
   "outputs": [],
   "source": [
    "# Split the data into training and test sets stratified by pt\n",
    "train_df, val_df = train_test_split(data_bigtrain, test_size=0.2, stratify=data_bigtrain['SOC'], random_state=42)"
   ]
  },
  {
   "cell_type": "code",
   "execution_count": 8,
   "id": "f7da1792",
   "metadata": {},
   "outputs": [
    {
     "data": {
      "text/plain": [
       "BertModel(\n",
       "  (embeddings): BertEmbeddings(\n",
       "    (word_embeddings): Embedding(28996, 768, padding_idx=0)\n",
       "    (position_embeddings): Embedding(512, 768)\n",
       "    (token_type_embeddings): Embedding(2, 768)\n",
       "    (LayerNorm): LayerNorm((768,), eps=1e-12, elementwise_affine=True)\n",
       "    (dropout): Dropout(p=0.1, inplace=False)\n",
       "  )\n",
       "  (encoder): BertEncoder(\n",
       "    (layer): ModuleList(\n",
       "      (0-11): 12 x BertLayer(\n",
       "        (attention): BertAttention(\n",
       "          (self): BertSdpaSelfAttention(\n",
       "            (query): Linear(in_features=768, out_features=768, bias=True)\n",
       "            (key): Linear(in_features=768, out_features=768, bias=True)\n",
       "            (value): Linear(in_features=768, out_features=768, bias=True)\n",
       "            (dropout): Dropout(p=0.1, inplace=False)\n",
       "          )\n",
       "          (output): BertSelfOutput(\n",
       "            (dense): Linear(in_features=768, out_features=768, bias=True)\n",
       "            (LayerNorm): LayerNorm((768,), eps=1e-12, elementwise_affine=True)\n",
       "            (dropout): Dropout(p=0.1, inplace=False)\n",
       "          )\n",
       "        )\n",
       "        (intermediate): BertIntermediate(\n",
       "          (dense): Linear(in_features=768, out_features=3072, bias=True)\n",
       "          (intermediate_act_fn): GELUActivation()\n",
       "        )\n",
       "        (output): BertOutput(\n",
       "          (dense): Linear(in_features=3072, out_features=768, bias=True)\n",
       "          (LayerNorm): LayerNorm((768,), eps=1e-12, elementwise_affine=True)\n",
       "          (dropout): Dropout(p=0.1, inplace=False)\n",
       "        )\n",
       "      )\n",
       "    )\n",
       "  )\n",
       "  (pooler): BertPooler(\n",
       "    (dense): Linear(in_features=768, out_features=768, bias=True)\n",
       "    (activation): Tanh()\n",
       "  )\n",
       ")"
      ]
     },
     "execution_count": 8,
     "metadata": {},
     "output_type": "execute_result"
    }
   ],
   "source": [
    "# Load BioBERT\n",
    "tokenizer = AutoTokenizer.from_pretrained('biobert-finetuned')\n",
    "model = AutoModel.from_pretrained('biobert-finetuned')\n",
    "model.eval()"
   ]
  },
  {
   "cell_type": "code",
   "execution_count": 9,
   "id": "b9bfac47",
   "metadata": {},
   "outputs": [],
   "source": [
    "# Helper to get embedding\n",
    "def get_embedding(text):\n",
    "    cleaned_text = clean_text(text)\n",
    "    inputs = tokenizer(cleaned_text, return_tensors=\"pt\", truncation=True, max_length=128)\n",
    "    with torch.no_grad():\n",
    "        outputs = model(**inputs)\n",
    "    return outputs.last_hidden_state[0, 0].numpy()"
   ]
  },
  {
   "cell_type": "code",
   "execution_count": 10,
   "id": "34557ddf",
   "metadata": {},
   "outputs": [
    {
     "name": "stderr",
     "output_type": "stream",
     "text": [
      "Embedding train: 100%|██████████| 6522/6522 [04:21<00:00, 24.95it/s]\n",
      "Embedding val: 100%|██████████| 1631/1631 [01:05<00:00, 25.01it/s]\n",
      "Embedding test: 100%|██████████| 1132/1132 [00:43<00:00, 25.94it/s]\n"
     ]
    }
   ],
   "source": [
    "# Generate embeddings\n",
    "tqdm.pandas(desc='Embedding train')\n",
    "train_df['embedding'] = train_df['pt'].progress_apply(get_embedding)\n",
    "\n",
    "tqdm.pandas(desc='Embedding val')\n",
    "val_df['embedding'] = val_df['pt'].progress_apply(get_embedding)\n",
    "\n",
    "tqdm.pandas(desc='Embedding test')\n",
    "data_test['embedding'] = data_test['pt'].progress_apply(get_embedding)"
   ]
  },
  {
   "cell_type": "code",
   "execution_count": 11,
   "id": "4230f1d0",
   "metadata": {},
   "outputs": [],
   "source": [
    "le = LabelEncoder()\n",
    "\n",
    "# Train k-NN on train set\n",
    "X_train = np.stack(train_df['embedding'].values)\n",
    "y_train = le.fit_transform(train_df['SOC'].values)\n",
    "\n",
    "X_val = np.stack(val_df['embedding'].values)\n",
    "y_val = le.transform(val_df['SOC'].values)"
   ]
  },
  {
   "cell_type": "markdown",
   "id": "7b5bd401",
   "metadata": {},
   "source": [
    "### Logistic Regression"
   ]
  },
  {
   "cell_type": "code",
   "execution_count": 13,
   "id": "2a583a25",
   "metadata": {},
   "outputs": [
    {
     "name": "stdout",
     "output_type": "stream",
     "text": [
      "Fitting 5 folds for each of 4 candidates, totalling 20 fits\n",
      "Best parameters for Logistic Regression: {'C': 0.1}\n",
      "Best score for Logistic Regression: 0.9301042305334151\n"
     ]
    }
   ],
   "source": [
    "lr_params = {'C': [0.01, 0.1, 1, 10]}\n",
    "\n",
    "lr = LogisticRegression(random_state=42, max_iter=1000)\n",
    "lr_cv = GridSearchCV(lr, lr_params, cv=5, verbose=1, n_jobs=-1)\n",
    "lr_cv.fit(X_train, y_train)\n",
    "\n",
    "lr_val_pred = lr_cv.predict(X_val)\n",
    "lr_val_accuracy = accuracy_score(y_val, lr_val_pred)\n",
    "\n",
    "print('Best parameters for Logistic Regression:', lr_cv.best_params_)\n",
    "print('Best score for Logistic Regression:', lr_val_accuracy)"
   ]
  },
  {
   "cell_type": "markdown",
   "id": "25279184",
   "metadata": {},
   "source": [
    "### SVM"
   ]
  },
  {
   "cell_type": "code",
   "execution_count": 14,
   "id": "c077e07c",
   "metadata": {},
   "outputs": [
    {
     "name": "stdout",
     "output_type": "stream",
     "text": [
      "Fitting 5 folds for each of 12 candidates, totalling 60 fits\n",
      "Best parameters for SVM: {'C': 10, 'kernel': 'rbf'}\n",
      "Best score for SVM: 0.9294911097486205\n"
     ]
    }
   ],
   "source": [
    "svm_params = {'C': [0.01, 0.1, 1, 10],\n",
    "             'kernel': ['linear', 'rbf', 'poly']}\n",
    "\n",
    "svm = SVC(probability=True, random_state=42)\n",
    "svm_cv = GridSearchCV(svm, svm_params, cv=5, verbose=1, n_jobs=-1)\n",
    "svm_cv.fit(X_train, y_train)\n",
    "\n",
    "svm_val_pred = svm_cv.predict(X_val)\n",
    "svm_val_accuracy = accuracy_score(y_val, svm_val_pred)\n",
    "\n",
    "print('Best parameters for SVM:', svm_cv.best_params_)\n",
    "print('Best score for SVM:', svm_val_accuracy)"
   ]
  },
  {
   "cell_type": "markdown",
   "id": "ddaf5305",
   "metadata": {},
   "source": [
    "### KNN"
   ]
  },
  {
   "cell_type": "code",
   "execution_count": 15,
   "id": "0dd8898f",
   "metadata": {},
   "outputs": [
    {
     "name": "stdout",
     "output_type": "stream",
     "text": [
      "Fitting 5 folds for each of 9 candidates, totalling 45 fits\n",
      "Best parameters for KNN: {'n_neighbors': 5, 'weights': 'distance'}\n",
      "Best score for KNN: 0.9288779889638259\n"
     ]
    }
   ],
   "source": [
    "knn_params = {'n_neighbors': [5, 10, 27],\n",
    "              'weights': ['uniform', 'distance', 'kernel']}\n",
    "\n",
    "knn = KNeighborsClassifier()\n",
    "knn_cv = GridSearchCV(knn, knn_params, cv=5, verbose=1, n_jobs=-1)\n",
    "knn_cv.fit(X_train, y_train)\n",
    "\n",
    "knn_val_pred = knn_cv.predict(X_val)\n",
    "knn_val_accuracy = accuracy_score(y_val, knn_val_pred)\n",
    "\n",
    "print('Best parameters for KNN:', knn_cv.best_params_)\n",
    "print('Best score for KNN:', knn_val_accuracy)"
   ]
  },
  {
   "cell_type": "markdown",
   "id": "e5150b55",
   "metadata": {},
   "source": [
    "### Random Forest"
   ]
  },
  {
   "cell_type": "code",
   "execution_count": 16,
   "id": "e963658f",
   "metadata": {},
   "outputs": [
    {
     "name": "stdout",
     "output_type": "stream",
     "text": [
      "Fitting 5 folds for each of 27 candidates, totalling 135 fits\n",
      "Best parameters for Random Forest: {'max_depth': None, 'min_samples_leaf': 1, 'n_estimators': 500}\n",
      "Best score for Random Forest: 0.9276517473942366\n"
     ]
    }
   ],
   "source": [
    "rf_params = {'n_estimators': [100, 200, 500],\n",
    "             'max_depth': [None, 10, 20],\n",
    "             'min_samples_leaf': [1, 2, 4]}\n",
    "\n",
    "rf = RandomForestClassifier(random_state=42)\n",
    "rf_cv = GridSearchCV(rf, rf_params, cv=5, verbose=1, n_jobs=-1)\n",
    "rf_cv.fit(X_train, y_train)\n",
    "\n",
    "rf_val_pred = rf_cv.predict(X_val)\n",
    "rf_val_accuracy = accuracy_score(y_val, rf_val_pred)\n",
    "\n",
    "print('Best parameters for Random Forest:', rf_cv.best_params_)\n",
    "print('Best score for Random Forest:', rf_val_accuracy)"
   ]
  },
  {
   "cell_type": "code",
   "execution_count": 17,
   "id": "8d1534db",
   "metadata": {},
   "outputs": [],
   "source": [
    "# Create a dictionary of best parameters\n",
    "best_params = {\n",
    "    'Model': ['LR', 'SVM', 'KNN', 'RF'],\n",
    "    'Best Parameters': [\n",
    "        lr_cv.best_params_,\n",
    "        svm_cv.best_params_,\n",
    "        knn_cv.best_params_,\n",
    "        rf_cv.best_params_\n",
    "    ],\n",
    "    'Best Accuracy': [\n",
    "        lr_val_accuracy,\n",
    "        svm_val_accuracy,\n",
    "        knn_val_accuracy,\n",
    "        rf_val_accuracy\n",
    "    ]\n",
    "}\n",
    "\n",
    "# Turn into a DataFrame\n",
    "best_params_df = pd.DataFrame(best_params)\n",
    "\n",
    "# Save best parameters\n",
    "best_params_df.to_csv('data/ML_BioBERT_finetuned_best_model_parameters.csv', index=False)"
   ]
  },
  {
   "cell_type": "code",
   "execution_count": 18,
   "id": "74aa277a",
   "metadata": {},
   "outputs": [],
   "source": [
    "# Embedding for test set\n",
    "test_embeddings = np.stack(data_test['embedding'].values)\n",
    "\n",
    "# Logistic Regression prediction\n",
    "lr_test_pred = lr_cv.predict(test_embeddings)\n",
    "lr_test_pred_labels = le.inverse_transform(lr_test_pred)\n",
    "\n",
    "# SVM prediction\n",
    "svm_test_pred = svm_cv.predict(test_embeddings)\n",
    "svm_test_pred_labels = le.inverse_transform(svm_test_pred)\n",
    "\n",
    "# KNN prediction\n",
    "knn_test_pred = knn_cv.predict(test_embeddings)\n",
    "knn_test_pred_labels = le.inverse_transform(knn_test_pred)\n",
    "\n",
    "# Random Forest prediction\n",
    "rf_test_pred = rf_cv.predict(test_embeddings)\n",
    "rf_test_pred_labels = le.inverse_transform(rf_test_pred)\n",
    "\n",
    "# Create a DataFrame with predictions for each model\n",
    "test_predictions = pd.DataFrame({\n",
    "    'pt': data_test['pt'],\n",
    "    'SOC': data_test['SOC'],\n",
    "    'SOC_lr_bb': lr_test_pred_labels,\n",
    "    'SOC_svm_bb': svm_test_pred_labels,\n",
    "    'SOC_knn_bb': knn_test_pred_labels,\n",
    "    'SOC_rf_bb': rf_test_pred_labels\n",
    "})"
   ]
  },
  {
   "cell_type": "code",
   "execution_count": 19,
   "id": "97ccf6a4",
   "metadata": {},
   "outputs": [],
   "source": [
    "# Save predictions to CSV\n",
    "test_predictions.to_csv('data/4.3 BioBERT_finetuned_ML_predictions.csv', index=False)"
   ]
  },
  {
   "cell_type": "code",
   "execution_count": null,
   "id": "51b1098c",
   "metadata": {},
   "outputs": [],
   "source": []
  }
 ],
 "metadata": {
  "kernelspec": {
   "display_name": "NLP",
   "language": "python",
   "name": "python3"
  },
  "language_info": {
   "codemirror_mode": {
    "name": "ipython",
    "version": 3
   },
   "file_extension": ".py",
   "mimetype": "text/x-python",
   "name": "python",
   "nbconvert_exporter": "python",
   "pygments_lexer": "ipython3",
   "version": "3.12.8"
  }
 },
 "nbformat": 4,
 "nbformat_minor": 5
}
