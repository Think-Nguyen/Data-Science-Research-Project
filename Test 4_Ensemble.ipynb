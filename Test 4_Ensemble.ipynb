{
 "cells": [
  {
   "cell_type": "code",
   "execution_count": null,
   "metadata": {},
   "outputs": [],
   "source": [
    "import pandas as pd\n",
    "import numpy as np\n",
    "import torch\n",
    "from tqdm import tqdm\n",
    "import re\n",
    "\n",
    "from transformers import AutoTokenizer, AutoModel\n",
    "from sklearn.model_selection import train_test_split\n",
    "from sklearn.preprocessing import StandardScaler, LabelEncoder\n",
    "from sklearn.pipeline import Pipeline\n",
    "from sklearn.metrics import classification_report, accuracy_score\n",
    "\n",
    "from sklearn.ensemble import RandomForestClassifier, VotingClassifier, StackingClassifier\n",
    "from sklearn.svm import SVC\n",
    "from sklearn.neural_network import MLPClassifier\n",
    "from sklearn.neighbors import KNeighborsClassifier\n",
    "from sklearn.linear_model import LogisticRegression"
   ]
  },
  {
   "cell_type": "code",
   "execution_count": null,
   "metadata": {},
   "outputs": [],
   "source": [
    "df = pd.read_csv('data/faers_adalimumab_2020-2024_ungrouped_cleaned_2.csv', low_memory=False)"
   ]
  },
  {
   "cell_type": "code",
   "execution_count": null,
   "metadata": {},
   "outputs": [],
   "source": [
    "data = df[['pt', 'SOC']].copy()\n",
    "data = data.drop_duplicates(subset=['pt'])\n",
    "\n",
    "# Split the data into training and test sets\n",
    "data_bigtrain = data[data['SOC'].notna()].copy()\n",
    "data_test = data[data['SOC'].isna()].copy()\n",
    "\n",
    "len(data_bigtrain), len(data_test)"
   ]
  },
  {
   "cell_type": "code",
   "execution_count": null,
   "metadata": {},
   "outputs": [],
   "source": [
    "train_df, val_df = train_test_split(data_bigtrain, test_size=0.2, stratify=data_bigtrain['SOC'], random_state=42)"
   ]
  },
  {
   "cell_type": "code",
   "execution_count": null,
   "metadata": {},
   "outputs": [
    {
     "name": "stderr",
     "output_type": "stream",
     "text": [
      "c:\\Users\\nguye\\anaconda3\\envs\\NLP\\Lib\\site-packages\\transformers\\tokenization_utils_base.py:2718: UserWarning: `max_length` is ignored when `padding`=`True` and there is no truncation strategy. To pad to max length, use `padding='max_length'`.\n",
      "  warnings.warn(\n"
     ]
    }
   ],
   "source": [
    "tokenizer = AutoTokenizer.from_pretrained(\"dmis-lab/biobert-base-cased-v1.1\")\n",
    "model = AutoModel.from_pretrained(\"dmis-lab/biobert-base-cased-v1.1\")\n",
    "model.eval()"
   ]
  },
  {
   "cell_type": "code",
   "execution_count": null,
   "metadata": {},
   "outputs": [],
   "source": [
    "def get_embedding(text):\n",
    "    inputs = tokenizer(text, return_tensors=\"pt\", truncation=True, max_length=128)\n",
    "    with torch.no_grad():\n",
    "        outputs = model(**inputs)\n",
    "    return outputs.last_hidden_state[0, 0].numpy()\n",
    "\n",
    "tqdm.pandas()\n",
    "for df_ in [train_df, val_df, data_test]:\n",
    "    df_['embedding'] = df_['pt'].progress_apply(get_embedding)"
   ]
  },
  {
   "cell_type": "code",
   "execution_count": null,
   "metadata": {},
   "outputs": [],
   "source": [
    "label_encoder = LabelEncoder()\n",
    "y_train = label_encoder.fit_transform(train_df['SOC'])\n",
    "y_val = label_encoder.transform(val_df['SOC'])\n",
    "class_names = list(label_encoder.classes_)\n",
    "\n",
    "X_train = np.stack(train_df['embedding'].values)\n",
    "X_val = np.stack(val_df['embedding'].values)\n",
    "X_test = np.stack(data_test['embedding'].values)"
   ]
  },
  {
   "cell_type": "code",
   "execution_count": null,
   "metadata": {},
   "outputs": [],
   "source": [
    "svm = Pipeline([\n",
    "    (\"scaler\", StandardScaler()),\n",
    "    (\"svm\", SVC(kernel='rbf', C=1.0, gamma='scale', probability=True, class_weight='balanced'))\n",
    "])\n",
    "\n",
    "rf = RandomForestClassifier(n_estimators=200, max_depth=20, class_weight='balanced', random_state=42)\n",
    "\n",
    "mlp = Pipeline([\n",
    "    (\"scaler\", StandardScaler()),\n",
    "    (\"mlp\", MLPClassifier(hidden_layer_sizes=(256, 128, 64), alpha=1e-4,\n",
    "                          learning_rate='adaptive', max_iter=500,\n",
    "                          early_stopping=True, validation_fraction=0.1, random_state=42))\n",
    "])\n",
    "\n",
    "knn = Pipeline([\n",
    "    (\"scaler\", StandardScaler()),\n",
    "    (\"knn\", KNeighborsClassifier(n_neighbors=27))\n",
    "])"
   ]
  },
  {
   "cell_type": "markdown",
   "metadata": {},
   "source": [
    "## Voting Ensemble"
   ]
  },
  {
   "cell_type": "code",
   "execution_count": null,
   "metadata": {},
   "outputs": [
    {
     "name": "stderr",
     "output_type": "stream",
     "text": [
      "Some weights of BertForSequenceClassification were not initialized from the model checkpoint at dmis-lab/biobert-base-cased-v1.1 and are newly initialized: ['classifier.bias', 'classifier.weight']\n",
      "You should probably TRAIN this model on a down-stream task to be able to use it for predictions and inference.\n"
     ]
    }
   ],
   "source": [
    "voting_ensemble = VotingClassifier(\n",
    "    estimators=[(\"svm\", svm), (\"rf\", rf), (\"mlp\", mlp), (\"knn\", knn)],\n",
    "    voting='soft',\n",
    "    weights=[1, 2, 2, 1],\n",
    "    n_jobs=-1\n",
    ")\n",
    "\n",
    "voting_ensemble.fit(X_train, y_train)\n",
    "y_val_pred_voting = voting_ensemble.predict(X_val)\n",
    "print(\"📊 Voting Ensemble Results:\")\n",
    "print(classification_report(y_val, y_val_pred_voting, target_names=class_names))"
   ]
  },
  {
   "cell_type": "markdown",
   "metadata": {},
   "source": [
    "## Stacking Ensemble"
   ]
  },
  {
   "cell_type": "code",
   "execution_count": null,
   "metadata": {},
   "outputs": [],
   "source": [
    "stacking_ensemble = StackingClassifier(\n",
    "    estimators=[(\"svm\", svm), (\"rf\", rf), (\"mlp\", mlp), (\"knn\", knn)],\n",
    "    final_estimator=LogisticRegression(max_iter=500, class_weight='balanced'),\n",
    "    passthrough=True,\n",
    "    n_jobs=-1\n",
    ")\n",
    "\n",
    "stacking_ensemble.fit(X_train, y_train)\n",
    "y_val_pred_stack = stacking_ensemble.predict(X_val)\n",
    "print(\"📊 Stacking Ensemble Results:\")\n",
    "print(classification_report(y_val, y_val_pred_stack, target_names=class_names))"
   ]
  },
  {
   "cell_type": "code",
   "execution_count": null,
   "metadata": {},
   "outputs": [],
   "source": [
    "final_model = stacking_ensemble  # or voting_ensemble\n",
    "y_test_pred = final_model.predict(X_test)\n",
    "data_test['SOC'] = label_encoder.inverse_transform(y_test_pred)"
   ]
  },
  {
   "cell_type": "code",
   "execution_count": null,
   "metadata": {},
   "outputs": [],
   "source": []
  }
 ],
 "metadata": {
  "kernelspec": {
   "display_name": "NLP",
   "language": "python",
   "name": "python3"
  },
  "language_info": {
   "codemirror_mode": {
    "name": "ipython",
    "version": 3
   },
   "file_extension": ".py",
   "mimetype": "text/x-python",
   "name": "python",
   "nbconvert_exporter": "python",
   "pygments_lexer": "ipython3",
   "version": "3.12.8"
  }
 },
 "nbformat": 4,
 "nbformat_minor": 2
}
