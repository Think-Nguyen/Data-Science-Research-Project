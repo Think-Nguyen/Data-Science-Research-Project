{
 "cells": [
  {
   "cell_type": "code",
   "execution_count": null,
   "metadata": {},
   "outputs": [
    {
     "name": "stderr",
     "output_type": "stream",
     "text": [
      "c:\\Users\\nguye\\anaconda3\\envs\\NLP\\Lib\\site-packages\\tqdm\\auto.py:21: TqdmWarning: IProgress not found. Please update jupyter and ipywidgets. See https://ipywidgets.readthedocs.io/en/stable/user_install.html\n",
      "  from .autonotebook import tqdm as notebook_tqdm\n"
     ]
    }
   ],
   "source": [
    "import pandas as pd\n",
    "import numpy as np\n",
    "import torch\n",
    "from tqdm import tqdm\n",
    "import ast\n",
    "\n",
    "from transformers import AutoTokenizer, AutoModel\n",
    "from sklearn.model_selection import train_test_split\n",
    "from sklearn.preprocessing import LabelEncoder\n",
    "from sklearn.metrics import classification_report, accuracy_score\n",
    "\n",
    "from sklearn.ensemble import RandomForestClassifier, VotingClassifier\n",
    "from sklearn.svm import SVC\n",
    "from sklearn.neighbors import KNeighborsClassifier\n",
    "from sklearn.linear_model import LogisticRegression\n",
    "\n",
    "import warnings\n",
    "warnings.filterwarnings('ignore')"
   ]
  },
  {
   "cell_type": "code",
   "execution_count": null,
   "metadata": {},
   "outputs": [],
   "source": [
    "# Load data\n",
    "df = pd.read_csv('data/faers_adalimumab_2020-2024_ungrouped_cleaned_2.csv', low_memory=False)"
   ]
  },
  {
   "cell_type": "code",
   "execution_count": 3,
   "metadata": {},
   "outputs": [
    {
     "data": {
      "text/plain": [
       "(7880, 1083)"
      ]
     },
     "execution_count": 3,
     "metadata": {},
     "output_type": "execute_result"
    }
   ],
   "source": [
    "data = df[['pt', 'SOC']].copy()\n",
    "data = data.drop_duplicates(subset=['pt'])\n",
    "\n",
    "# Split the data into training and test sets\n",
    "data_bigtrain = data[data['SOC'].notna()].copy()\n",
    "data_test = data[data['SOC'].isna()].copy()\n",
    "\n",
    "len(data_bigtrain), len(data_test)"
   ]
  },
  {
   "cell_type": "code",
   "execution_count": 4,
   "metadata": {},
   "outputs": [],
   "source": [
    "train_df, val_df = train_test_split(data_bigtrain, test_size=0.2, stratify=data_bigtrain['SOC'], random_state=42)"
   ]
  },
  {
   "cell_type": "code",
   "execution_count": 5,
   "metadata": {},
   "outputs": [
    {
     "data": {
      "text/plain": [
       "BertModel(\n",
       "  (embeddings): BertEmbeddings(\n",
       "    (word_embeddings): Embedding(28996, 768, padding_idx=0)\n",
       "    (position_embeddings): Embedding(512, 768)\n",
       "    (token_type_embeddings): Embedding(2, 768)\n",
       "    (LayerNorm): LayerNorm((768,), eps=1e-12, elementwise_affine=True)\n",
       "    (dropout): Dropout(p=0.1, inplace=False)\n",
       "  )\n",
       "  (encoder): BertEncoder(\n",
       "    (layer): ModuleList(\n",
       "      (0-11): 12 x BertLayer(\n",
       "        (attention): BertAttention(\n",
       "          (self): BertSdpaSelfAttention(\n",
       "            (query): Linear(in_features=768, out_features=768, bias=True)\n",
       "            (key): Linear(in_features=768, out_features=768, bias=True)\n",
       "            (value): Linear(in_features=768, out_features=768, bias=True)\n",
       "            (dropout): Dropout(p=0.1, inplace=False)\n",
       "          )\n",
       "          (output): BertSelfOutput(\n",
       "            (dense): Linear(in_features=768, out_features=768, bias=True)\n",
       "            (LayerNorm): LayerNorm((768,), eps=1e-12, elementwise_affine=True)\n",
       "            (dropout): Dropout(p=0.1, inplace=False)\n",
       "          )\n",
       "        )\n",
       "        (intermediate): BertIntermediate(\n",
       "          (dense): Linear(in_features=768, out_features=3072, bias=True)\n",
       "          (intermediate_act_fn): GELUActivation()\n",
       "        )\n",
       "        (output): BertOutput(\n",
       "          (dense): Linear(in_features=3072, out_features=768, bias=True)\n",
       "          (LayerNorm): LayerNorm((768,), eps=1e-12, elementwise_affine=True)\n",
       "          (dropout): Dropout(p=0.1, inplace=False)\n",
       "        )\n",
       "      )\n",
       "    )\n",
       "  )\n",
       "  (pooler): BertPooler(\n",
       "    (dense): Linear(in_features=768, out_features=768, bias=True)\n",
       "    (activation): Tanh()\n",
       "  )\n",
       ")"
      ]
     },
     "execution_count": 5,
     "metadata": {},
     "output_type": "execute_result"
    }
   ],
   "source": [
    "tokenizer = AutoTokenizer.from_pretrained('biobert-finetuned')\n",
    "model = AutoModel.from_pretrained('biobert-finetuned')\n",
    "model.eval()"
   ]
  },
  {
   "cell_type": "code",
   "execution_count": 6,
   "metadata": {},
   "outputs": [
    {
     "name": "stderr",
     "output_type": "stream",
     "text": [
      "100%|██████████| 6304/6304 [03:49<00:00, 27.43it/s]\n",
      "100%|██████████| 1576/1576 [00:57<00:00, 27.57it/s]\n",
      "100%|██████████| 1083/1083 [00:39<00:00, 27.19it/s]\n"
     ]
    }
   ],
   "source": [
    "def get_embedding(text):\n",
    "    inputs = tokenizer(text, return_tensors='pt', truncation=True, max_length=128)\n",
    "    with torch.no_grad():\n",
    "        outputs = model(**inputs)\n",
    "    return outputs.last_hidden_state[0, 0].numpy()\n",
    "\n",
    "tqdm.pandas()\n",
    "for df_ in [train_df, val_df, data_test]:\n",
    "    df_['embedding'] = df_['pt'].progress_apply(get_embedding)"
   ]
  },
  {
   "cell_type": "code",
   "execution_count": 7,
   "metadata": {},
   "outputs": [],
   "source": [
    "label_encoder = LabelEncoder()\n",
    "y_train = label_encoder.fit_transform(train_df['SOC'])\n",
    "y_val = label_encoder.transform(val_df['SOC'])\n",
    "class_names = list(label_encoder.classes_)\n",
    "\n",
    "X_train = np.stack(train_df['embedding'].values)\n",
    "X_val = np.stack(val_df['embedding'].values)\n",
    "X_test = np.stack(data_test['embedding'].values)"
   ]
  },
  {
   "cell_type": "code",
   "execution_count": null,
   "metadata": {},
   "outputs": [],
   "source": [
    "best_params_df = pd.read_csv('data/ML_BioBERT_finetuned_best_model_parameters.csv')\n",
    "\n",
    "best_params = {}\n",
    "for _, row in best_params_df.iterrows():\n",
    "    model_name = row['Model']\n",
    "    params = ast.literal_eval(row['Best Parameters']) \n",
    "    best_params[model_name] = params\n",
    "    best_accuracy = row['Best Accuracy']\n",
    "\n",
    "# Define the models with their best parameters\n",
    "lr = LogisticRegression(**best_params['LR'], random_state=42)\n",
    "svm = SVC(**best_params['SVM'], probability=True, random_state=42)\n",
    "knn = KNeighborsClassifier(**best_params['KNN'], random_state=42)\n",
    "rf = RandomForestClassifier(**best_params['RF'], random_state=42)"
   ]
  },
  {
   "cell_type": "markdown",
   "metadata": {},
   "source": [
    "## Voting Ensemble"
   ]
  },
  {
   "cell_type": "code",
   "execution_count": null,
   "metadata": {},
   "outputs": [
    {
     "name": "stdout",
     "output_type": "stream",
     "text": [
      "Voting Ensemble Results:\n",
      "                                                                     precision    recall  f1-score   support\n",
      "\n",
      "                               Blood and lymphatic system disorders       0.75      0.67      0.71         9\n",
      "                                                  Cardiac disorders       0.90      0.97      0.93        36\n",
      "                         Congenital, familial and genetic disorders       0.83      0.71      0.77        14\n",
      "                                        Ear and labyrinth disorders       1.00      0.89      0.94         9\n",
      "                                                Endocrine disorders       1.00      0.80      0.89        10\n",
      "                                                      Eye disorders       0.90      0.95      0.92        57\n",
      "                                         Gastrointestinal disorders       0.96      0.95      0.95       113\n",
      "               General disorders and administration site conditions       0.91      0.84      0.88       109\n",
      "                                            Hepatobiliary disorders       1.00      0.95      0.98        21\n",
      "                                            Immune system disorders       0.83      0.71      0.77        21\n",
      "                                        Infections and infestations       0.95      0.94      0.95       134\n",
      "                     Injury, poisoning and procedural complications       0.96      0.85      0.90        55\n",
      "                                                     Investigations       0.94      0.98      0.96       192\n",
      "                                 Metabolism and nutrition disorders       1.00      0.94      0.97        36\n",
      "                    Musculoskeletal and connective tissue disorders       0.92      0.95      0.93        82\n",
      "Neoplasms benign, malignant and unspecified (incl cysts and polyps)       0.97      0.97      0.97       152\n",
      "                                           Nervous system disorders       0.86      0.85      0.86        81\n",
      "                     Pregnancy, puerperium and perinatal conditions       0.90      1.00      0.95        28\n",
      "                                                     Product issues       0.91      1.00      0.95        20\n",
      "                                              Psychiatric disorders       0.81      0.75      0.78        28\n",
      "                                        Renal and urinary disorders       0.95      0.93      0.94        41\n",
      "                           Reproductive system and breast disorders       0.94      1.00      0.97        44\n",
      "                    Respiratory, thoracic and mediastinal disorders       0.91      1.00      0.95        51\n",
      "                             Skin and subcutaneous tissue disorders       0.92      0.95      0.93        58\n",
      "                                               Social circumstances       0.62      0.73      0.67        11\n",
      "                                    Surgical and medical procedures       0.94      0.94      0.94       110\n",
      "                                                 Vascular disorders       0.85      0.85      0.85        54\n",
      "\n",
      "                                                           accuracy                           0.93      1576\n",
      "                                                          macro avg       0.90      0.89      0.90      1576\n",
      "                                                       weighted avg       0.93      0.93      0.92      1576\n",
      "\n",
      "Voting Ensemble Accuracy: 0.9251\n"
     ]
    }
   ],
   "source": [
    "voting_ensemble = VotingClassifier(\n",
    "    estimators=[('lr', lr), ('svm', svm), ('knn', knn), ('rf', rf)],\n",
    "    voting='soft',\n",
    "    weights=[1, 1, 1, 1],\n",
    "    n_jobs=-1\n",
    ")\n",
    "\n",
    "voting_ensemble.fit(X_train, y_train)\n",
    "y_val_pred_voting = voting_ensemble.predict(X_val)\n",
    "voting_accuracy = accuracy_score(y_val, y_val_pred_voting)\n",
    "print('Voting Ensemble Results:')\n",
    "print(classification_report(y_val, y_val_pred_voting, target_names=class_names))\n",
    "print(f'Voting Ensemble Accuracy: {voting_accuracy:.4f}')"
   ]
  },
  {
   "cell_type": "code",
   "execution_count": 21,
   "metadata": {},
   "outputs": [],
   "source": [
    "final_model = voting_ensemble \n",
    "y_test_pred = final_model.predict(X_test)\n",
    "data_test['SOC_ensemble_biobert'] = label_encoder.inverse_transform(y_test_pred)"
   ]
  },
  {
   "cell_type": "code",
   "execution_count": null,
   "metadata": {},
   "outputs": [],
   "source": [
    "# Save predictions to CSV\n",
    "data_test[['pt', 'SOC_ensemble_biobert']].to_csv('data/4.4 BioBERT_finetuned_Ensemble_prediction.csv', index=False)"
   ]
  }
 ],
 "metadata": {
  "kernelspec": {
   "display_name": "NLP",
   "language": "python",
   "name": "python3"
  },
  "language_info": {
   "codemirror_mode": {
    "name": "ipython",
    "version": 3
   },
   "file_extension": ".py",
   "mimetype": "text/x-python",
   "name": "python",
   "nbconvert_exporter": "python",
   "pygments_lexer": "ipython3",
   "version": "3.12.8"
  }
 },
 "nbformat": 4,
 "nbformat_minor": 2
}
