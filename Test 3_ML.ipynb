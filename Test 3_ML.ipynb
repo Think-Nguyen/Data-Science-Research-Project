{
 "cells": [
  {
   "cell_type": "code",
   "execution_count": 1,
   "id": "4a672469",
   "metadata": {},
   "outputs": [
    {
     "name": "stderr",
     "output_type": "stream",
     "text": [
      "c:\\Users\\nguye\\anaconda3\\envs\\NLP\\Lib\\site-packages\\tqdm\\auto.py:21: TqdmWarning: IProgress not found. Please update jupyter and ipywidgets. See https://ipywidgets.readthedocs.io/en/stable/user_install.html\n",
      "  from .autonotebook import tqdm as notebook_tqdm\n"
     ]
    }
   ],
   "source": [
    "import pandas as pd\n",
    "import torch\n",
    "import numpy as np\n",
    "import re\n",
    "\n",
    "from sklearn.linear_model import LogisticRegression\n",
    "from sklearn.ensemble import RandomForestClassifier\n",
    "from sklearn.svm import SVC\n",
    "from sklearn.neighbors import KNeighborsClassifier\n",
    "from xgboost import XGBClassifier\n",
    "from sklearn.model_selection import GridSearchCV\n",
    "from sklearn.metrics import accuracy_score, classification_report\n",
    "\n",
    "from transformers import AutoTokenizer, AutoModel\n",
    "from sklearn.preprocessing import LabelEncoder\n",
    "from sklearn.model_selection import train_test_split\n",
    "from tqdm import tqdm"
   ]
  },
  {
   "cell_type": "code",
   "execution_count": 2,
   "id": "d1e8d75b",
   "metadata": {},
   "outputs": [],
   "source": [
    "# Load and prepare data\n",
    "df = pd.read_csv('data/faers_adalimumab_2020-2024_ungrouped_cleaned_2.csv', low_memory=False)"
   ]
  },
  {
   "cell_type": "code",
   "execution_count": 3,
   "id": "5175d83c",
   "metadata": {},
   "outputs": [],
   "source": [
    "data = df[['pt', 'SOC']].copy()\n",
    "data = data.drop_duplicates(subset=['pt', 'SOC'])"
   ]
  },
  {
   "cell_type": "code",
   "execution_count": 4,
   "id": "1efcd72c",
   "metadata": {},
   "outputs": [],
   "source": [
    "def clean_text(text):\n",
    "    text = str(text).lower()  # Lowercase\n",
    "    text = re.sub(r'[^a-z0-9\\s]', '', text)  # Remove punctuation/special chars\n",
    "    text = re.sub(r'\\s+', ' ', text).strip()  # Normalize whitespace\n",
    "    return text\n",
    "\n",
    "data['pt_cleaned'] = data['pt'].apply(clean_text)"
   ]
  },
  {
   "cell_type": "code",
   "execution_count": 5,
   "id": "21e164a8",
   "metadata": {},
   "outputs": [],
   "source": [
    "# Split into bigtrain (with labels) and test (missing labels)\n",
    "data_bigtrain = data[data['SOC'].notna()].copy()\n",
    "data_test = data[data['SOC'].isna()].copy()\n",
    "data_test['missing_SOC'] = True"
   ]
  },
  {
   "cell_type": "code",
   "execution_count": 6,
   "id": "3915dcc7",
   "metadata": {},
   "outputs": [
    {
     "data": {
      "text/plain": [
       "(7880, 1083)"
      ]
     },
     "execution_count": 6,
     "metadata": {},
     "output_type": "execute_result"
    }
   ],
   "source": [
    "len(data_bigtrain), len(data_test)"
   ]
  },
  {
   "cell_type": "code",
   "execution_count": 7,
   "id": "931b0fb1",
   "metadata": {},
   "outputs": [],
   "source": [
    "# Train/Validation split stratified by pt\n",
    "train_df, val_df = train_test_split(data_bigtrain, test_size=0.2, stratify=data_bigtrain['SOC'], random_state=42)"
   ]
  },
  {
   "cell_type": "code",
   "execution_count": 8,
   "id": "f7da1792",
   "metadata": {},
   "outputs": [
    {
     "data": {
      "text/plain": [
       "BertModel(\n",
       "  (embeddings): BertEmbeddings(\n",
       "    (word_embeddings): Embedding(28996, 768, padding_idx=0)\n",
       "    (position_embeddings): Embedding(512, 768)\n",
       "    (token_type_embeddings): Embedding(2, 768)\n",
       "    (LayerNorm): LayerNorm((768,), eps=1e-12, elementwise_affine=True)\n",
       "    (dropout): Dropout(p=0.1, inplace=False)\n",
       "  )\n",
       "  (encoder): BertEncoder(\n",
       "    (layer): ModuleList(\n",
       "      (0-11): 12 x BertLayer(\n",
       "        (attention): BertAttention(\n",
       "          (self): BertSdpaSelfAttention(\n",
       "            (query): Linear(in_features=768, out_features=768, bias=True)\n",
       "            (key): Linear(in_features=768, out_features=768, bias=True)\n",
       "            (value): Linear(in_features=768, out_features=768, bias=True)\n",
       "            (dropout): Dropout(p=0.1, inplace=False)\n",
       "          )\n",
       "          (output): BertSelfOutput(\n",
       "            (dense): Linear(in_features=768, out_features=768, bias=True)\n",
       "            (LayerNorm): LayerNorm((768,), eps=1e-12, elementwise_affine=True)\n",
       "            (dropout): Dropout(p=0.1, inplace=False)\n",
       "          )\n",
       "        )\n",
       "        (intermediate): BertIntermediate(\n",
       "          (dense): Linear(in_features=768, out_features=3072, bias=True)\n",
       "          (intermediate_act_fn): GELUActivation()\n",
       "        )\n",
       "        (output): BertOutput(\n",
       "          (dense): Linear(in_features=3072, out_features=768, bias=True)\n",
       "          (LayerNorm): LayerNorm((768,), eps=1e-12, elementwise_affine=True)\n",
       "          (dropout): Dropout(p=0.1, inplace=False)\n",
       "        )\n",
       "      )\n",
       "    )\n",
       "  )\n",
       "  (pooler): BertPooler(\n",
       "    (dense): Linear(in_features=768, out_features=768, bias=True)\n",
       "    (activation): Tanh()\n",
       "  )\n",
       ")"
      ]
     },
     "execution_count": 8,
     "metadata": {},
     "output_type": "execute_result"
    }
   ],
   "source": [
    "# Load BioBERT\n",
    "tokenizer = AutoTokenizer.from_pretrained(\"dmis-lab/biobert-base-cased-v1.1\")\n",
    "model = AutoModel.from_pretrained(\"dmis-lab/biobert-base-cased-v1.1\")\n",
    "model.eval()"
   ]
  },
  {
   "cell_type": "code",
   "execution_count": 9,
   "id": "b9bfac47",
   "metadata": {},
   "outputs": [],
   "source": [
    "# Helper to get embedding\n",
    "def get_embedding(text):\n",
    "    cleaned_text = clean_text(text)\n",
    "    inputs = tokenizer(cleaned_text, return_tensors=\"pt\", truncation=True, max_length=128)\n",
    "    with torch.no_grad():\n",
    "        outputs = model(**inputs)\n",
    "    return outputs.last_hidden_state[0, 0].numpy()"
   ]
  },
  {
   "cell_type": "code",
   "execution_count": 11,
   "id": "34557ddf",
   "metadata": {},
   "outputs": [
    {
     "name": "stderr",
     "output_type": "stream",
     "text": [
      "Embedding train: 100%|██████████| 6304/6304 [04:26<00:00, 23.64it/s]\n",
      "Embedding val: 100%|██████████| 1576/1576 [01:05<00:00, 23.93it/s]\n",
      "Embedding test: 100%|██████████| 1083/1083 [00:43<00:00, 24.80it/s]\n"
     ]
    }
   ],
   "source": [
    "# Generate embeddings\n",
    "tqdm.pandas(desc=\"Embedding train\")\n",
    "train_df['embedding'] = train_df['pt'].progress_apply(get_embedding)\n",
    "\n",
    "tqdm.pandas(desc=\"Embedding val\")\n",
    "val_df['embedding'] = val_df['pt'].progress_apply(get_embedding)\n",
    "\n",
    "tqdm.pandas(desc=\"Embedding test\")\n",
    "data_test['embedding'] = data_test['pt'].progress_apply(get_embedding)"
   ]
  },
  {
   "cell_type": "code",
   "execution_count": 12,
   "id": "2a08ecb1",
   "metadata": {},
   "outputs": [],
   "source": [
    "# Save embeddings\n",
    "train_df.to_pickle('train_embeddings.pkl')\n",
    "val_df.to_pickle('val_embeddings.pkl')\n",
    "data_test.to_pickle('test_embeddings.pkl')"
   ]
  },
  {
   "cell_type": "code",
   "execution_count": 10,
   "id": "b209e294",
   "metadata": {},
   "outputs": [],
   "source": [
    "# Load embeddings\n",
    "train_df = pd.read_pickle('train_embeddings.pkl')\n",
    "val_df = pd.read_pickle('val_embeddings.pkl')"
   ]
  },
  {
   "cell_type": "code",
   "execution_count": 11,
   "id": "4230f1d0",
   "metadata": {},
   "outputs": [],
   "source": [
    "le = LabelEncoder()\n",
    "\n",
    "# Train k-NN on train set\n",
    "X_train = np.stack(train_df['embedding'].values)\n",
    "# y_train = train_df['SOC'].values\n",
    "y_train = le.fit_transform(train_df['SOC'].values)\n",
    "\n",
    "X_val = np.stack(val_df['embedding'].values)\n",
    "# y_val = val_df['SOC'].values\n",
    "y_val = le.transform(val_df['SOC'].values)"
   ]
  },
  {
   "cell_type": "markdown",
   "id": "7b5bd401",
   "metadata": {},
   "source": [
    "### Logistic Regression"
   ]
  },
  {
   "cell_type": "code",
   "execution_count": 12,
   "id": "2a583a25",
   "metadata": {},
   "outputs": [
    {
     "name": "stdout",
     "output_type": "stream",
     "text": [
      "Fitting 5 folds for each of 20 candidates, totalling 100 fits\n"
     ]
    },
    {
     "name": "stderr",
     "output_type": "stream",
     "text": [
      "c:\\Users\\nguye\\anaconda3\\envs\\NLP\\Lib\\site-packages\\sklearn\\model_selection\\_validation.py:528: FitFailedWarning: \n",
      "40 fits failed out of a total of 100.\n",
      "The score on these train-test partitions for these parameters will be set to nan.\n",
      "If these failures are not expected, you can try to debug them by setting error_score='raise'.\n",
      "\n",
      "Below are more details about the failures:\n",
      "--------------------------------------------------------------------------------\n",
      "5 fits failed with the following error:\n",
      "Traceback (most recent call last):\n",
      "  File \"c:\\Users\\nguye\\anaconda3\\envs\\NLP\\Lib\\site-packages\\sklearn\\model_selection\\_validation.py\", line 866, in _fit_and_score\n",
      "    estimator.fit(X_train, y_train, **fit_params)\n",
      "  File \"c:\\Users\\nguye\\anaconda3\\envs\\NLP\\Lib\\site-packages\\sklearn\\base.py\", line 1382, in wrapper\n",
      "    estimator._validate_params()\n",
      "  File \"c:\\Users\\nguye\\anaconda3\\envs\\NLP\\Lib\\site-packages\\sklearn\\base.py\", line 436, in _validate_params\n",
      "    validate_parameter_constraints(\n",
      "  File \"c:\\Users\\nguye\\anaconda3\\envs\\NLP\\Lib\\site-packages\\sklearn\\utils\\_param_validation.py\", line 98, in validate_parameter_constraints\n",
      "    raise InvalidParameterError(\n",
      "sklearn.utils._param_validation.InvalidParameterError: The 'penalty' parameter of LogisticRegression must be a str among {'elasticnet', 'l2', 'l1'} or None. Got 'none' instead.\n",
      "\n",
      "--------------------------------------------------------------------------------\n",
      "11 fits failed with the following error:\n",
      "Traceback (most recent call last):\n",
      "  File \"c:\\Users\\nguye\\anaconda3\\envs\\NLP\\Lib\\site-packages\\sklearn\\model_selection\\_validation.py\", line 866, in _fit_and_score\n",
      "    estimator.fit(X_train, y_train, **fit_params)\n",
      "  File \"c:\\Users\\nguye\\anaconda3\\envs\\NLP\\Lib\\site-packages\\sklearn\\base.py\", line 1382, in wrapper\n",
      "    estimator._validate_params()\n",
      "  File \"c:\\Users\\nguye\\anaconda3\\envs\\NLP\\Lib\\site-packages\\sklearn\\base.py\", line 436, in _validate_params\n",
      "    validate_parameter_constraints(\n",
      "  File \"c:\\Users\\nguye\\anaconda3\\envs\\NLP\\Lib\\site-packages\\sklearn\\utils\\_param_validation.py\", line 98, in validate_parameter_constraints\n",
      "    raise InvalidParameterError(\n",
      "sklearn.utils._param_validation.InvalidParameterError: The 'penalty' parameter of LogisticRegression must be a str among {'l1', 'elasticnet', 'l2'} or None. Got 'none' instead.\n",
      "\n",
      "--------------------------------------------------------------------------------\n",
      "5 fits failed with the following error:\n",
      "Traceback (most recent call last):\n",
      "  File \"c:\\Users\\nguye\\anaconda3\\envs\\NLP\\Lib\\site-packages\\sklearn\\model_selection\\_validation.py\", line 866, in _fit_and_score\n",
      "    estimator.fit(X_train, y_train, **fit_params)\n",
      "  File \"c:\\Users\\nguye\\anaconda3\\envs\\NLP\\Lib\\site-packages\\sklearn\\base.py\", line 1382, in wrapper\n",
      "    estimator._validate_params()\n",
      "  File \"c:\\Users\\nguye\\anaconda3\\envs\\NLP\\Lib\\site-packages\\sklearn\\base.py\", line 436, in _validate_params\n",
      "    validate_parameter_constraints(\n",
      "  File \"c:\\Users\\nguye\\anaconda3\\envs\\NLP\\Lib\\site-packages\\sklearn\\utils\\_param_validation.py\", line 98, in validate_parameter_constraints\n",
      "    raise InvalidParameterError(\n",
      "sklearn.utils._param_validation.InvalidParameterError: The 'penalty' parameter of LogisticRegression must be a str among {'l1', 'l2', 'elasticnet'} or None. Got 'none' instead.\n",
      "\n",
      "--------------------------------------------------------------------------------\n",
      "1 fits failed with the following error:\n",
      "Traceback (most recent call last):\n",
      "  File \"c:\\Users\\nguye\\anaconda3\\envs\\NLP\\Lib\\site-packages\\sklearn\\model_selection\\_validation.py\", line 866, in _fit_and_score\n",
      "    estimator.fit(X_train, y_train, **fit_params)\n",
      "  File \"c:\\Users\\nguye\\anaconda3\\envs\\NLP\\Lib\\site-packages\\sklearn\\base.py\", line 1382, in wrapper\n",
      "    estimator._validate_params()\n",
      "  File \"c:\\Users\\nguye\\anaconda3\\envs\\NLP\\Lib\\site-packages\\sklearn\\base.py\", line 436, in _validate_params\n",
      "    validate_parameter_constraints(\n",
      "  File \"c:\\Users\\nguye\\anaconda3\\envs\\NLP\\Lib\\site-packages\\sklearn\\utils\\_param_validation.py\", line 98, in validate_parameter_constraints\n",
      "    raise InvalidParameterError(\n",
      "sklearn.utils._param_validation.InvalidParameterError: The 'penalty' parameter of LogisticRegression must be a str among {'l2', 'l1', 'elasticnet'} or None. Got 'none' instead.\n",
      "\n",
      "--------------------------------------------------------------------------------\n",
      "18 fits failed with the following error:\n",
      "Traceback (most recent call last):\n",
      "  File \"c:\\Users\\nguye\\anaconda3\\envs\\NLP\\Lib\\site-packages\\sklearn\\model_selection\\_validation.py\", line 866, in _fit_and_score\n",
      "    estimator.fit(X_train, y_train, **fit_params)\n",
      "  File \"c:\\Users\\nguye\\anaconda3\\envs\\NLP\\Lib\\site-packages\\sklearn\\base.py\", line 1382, in wrapper\n",
      "    estimator._validate_params()\n",
      "  File \"c:\\Users\\nguye\\anaconda3\\envs\\NLP\\Lib\\site-packages\\sklearn\\base.py\", line 436, in _validate_params\n",
      "    validate_parameter_constraints(\n",
      "  File \"c:\\Users\\nguye\\anaconda3\\envs\\NLP\\Lib\\site-packages\\sklearn\\utils\\_param_validation.py\", line 98, in validate_parameter_constraints\n",
      "    raise InvalidParameterError(\n",
      "sklearn.utils._param_validation.InvalidParameterError: The 'penalty' parameter of LogisticRegression must be a str among {'elasticnet', 'l1', 'l2'} or None. Got 'none' instead.\n",
      "\n",
      "  warnings.warn(some_fits_failed_message, FitFailedWarning)\n",
      "c:\\Users\\nguye\\anaconda3\\envs\\NLP\\Lib\\site-packages\\sklearn\\model_selection\\_search.py:1107: UserWarning: One or more of the test scores are non-finite: [0.73255177 0.73255177        nan        nan 0.80821746 0.80790026\n",
      "        nan        nan 0.83090027 0.83074154        nan        nan\n",
      " 0.83438944 0.83343794        nan        nan 0.35612427 0.75809108\n",
      " 0.8231274  0.83153406]\n",
      "  warnings.warn(\n"
     ]
    },
    {
     "name": "stdout",
     "output_type": "stream",
     "text": [
      "Best parameters for Logistic Regression: {'C': 10, 'penalty': 'l2', 'solver': 'lbfgs'}\n",
      "Best score for Logistic Regression: 0.8343908629441624\n"
     ]
    }
   ],
   "source": [
    "lr_params = [\n",
    "    {'C': [0.01, 0.1, 1, 10], 'penalty': ['l2', 'none'], 'solver': ['lbfgs', 'sag']},\n",
    "    {'C': [0.01, 0.1, 1, 10], 'penalty': ['elasticnet'], 'solver': ['saga'], 'l1_ratio': [0.5]}\n",
    "]\n",
    "\n",
    "lr = LogisticRegression(random_state=42, max_iter=1000)\n",
    "lr_cv = GridSearchCV(lr, lr_params, cv=5, verbose=1, n_jobs=-1)\n",
    "# lr_cv = GridSearchCV(lr, lr_params, cv=5, verbose=1)\n",
    "lr_cv.fit(X_train, y_train)\n",
    "\n",
    "lr_val_pred = lr_cv.predict(X_val)\n",
    "lr_val_accuracy = accuracy_score(y_val, lr_val_pred)\n",
    "\n",
    "print('Best parameters for Logistic Regression:', lr_cv.best_params_)\n",
    "print('Best score for Logistic Regression:', lr_val_accuracy)"
   ]
  },
  {
   "cell_type": "markdown",
   "id": "25279184",
   "metadata": {},
   "source": [
    "### SVM"
   ]
  },
  {
   "cell_type": "code",
   "execution_count": 13,
   "id": "c077e07c",
   "metadata": {},
   "outputs": [
    {
     "name": "stdout",
     "output_type": "stream",
     "text": [
      "Fitting 5 folds for each of 32 candidates, totalling 160 fits\n",
      "Best parameters for SVM: {'C': 10, 'gamma': 'scale', 'kernel': 'poly'}\n",
      "Best score for SVM: 0.8369289340101523\n"
     ]
    }
   ],
   "source": [
    "svm_params = {'C': [0.01, 0.1, 1, 10],\n",
    "             'kernel': ['linear', 'rbf', 'poly', 'sigmoid'], \n",
    "             'gamma': ['scale', 'auto']}\n",
    "\n",
    "svm = SVC(probability=True, random_state=42)\n",
    "# svm_cv = GridSearchCV(svm, svm_params, cv=5, verbose=1, n_jobs=-1)\n",
    "svm_cv = GridSearchCV(svm, svm_params, cv=5, verbose=1)\n",
    "svm_cv.fit(X_train, y_train)\n",
    "\n",
    "svm_val_pred = svm_cv.predict(X_val)\n",
    "svm_val_accuracy = accuracy_score(y_val, svm_val_pred)\n",
    "\n",
    "print('Best parameters for SVM:', svm_cv.best_params_)\n",
    "print('Best score for SVM:', svm_val_accuracy)"
   ]
  },
  {
   "cell_type": "markdown",
   "id": "ddaf5305",
   "metadata": {},
   "source": [
    "### KNN"
   ]
  },
  {
   "cell_type": "code",
   "execution_count": 13,
   "id": "0dd8898f",
   "metadata": {},
   "outputs": [
    {
     "name": "stdout",
     "output_type": "stream",
     "text": [
      "Fitting 5 folds for each of 18 candidates, totalling 90 fits\n"
     ]
    },
    {
     "name": "stderr",
     "output_type": "stream",
     "text": [
      "c:\\Users\\nguye\\anaconda3\\envs\\NLP\\Lib\\site-packages\\sklearn\\model_selection\\_validation.py:528: FitFailedWarning: \n",
      "30 fits failed out of a total of 90.\n",
      "The score on these train-test partitions for these parameters will be set to nan.\n",
      "If these failures are not expected, you can try to debug them by setting error_score='raise'.\n",
      "\n",
      "Below are more details about the failures:\n",
      "--------------------------------------------------------------------------------\n",
      "21 fits failed with the following error:\n",
      "Traceback (most recent call last):\n",
      "  File \"c:\\Users\\nguye\\anaconda3\\envs\\NLP\\Lib\\site-packages\\sklearn\\model_selection\\_validation.py\", line 866, in _fit_and_score\n",
      "    estimator.fit(X_train, y_train, **fit_params)\n",
      "  File \"c:\\Users\\nguye\\anaconda3\\envs\\NLP\\Lib\\site-packages\\sklearn\\base.py\", line 1382, in wrapper\n",
      "    estimator._validate_params()\n",
      "  File \"c:\\Users\\nguye\\anaconda3\\envs\\NLP\\Lib\\site-packages\\sklearn\\base.py\", line 436, in _validate_params\n",
      "    validate_parameter_constraints(\n",
      "  File \"c:\\Users\\nguye\\anaconda3\\envs\\NLP\\Lib\\site-packages\\sklearn\\utils\\_param_validation.py\", line 98, in validate_parameter_constraints\n",
      "    raise InvalidParameterError(\n",
      "sklearn.utils._param_validation.InvalidParameterError: The 'weights' parameter of KNeighborsClassifier must be a str among {'uniform', 'distance'}, a callable or None. Got 'kernel' instead.\n",
      "\n",
      "--------------------------------------------------------------------------------\n",
      "9 fits failed with the following error:\n",
      "Traceback (most recent call last):\n",
      "  File \"c:\\Users\\nguye\\anaconda3\\envs\\NLP\\Lib\\site-packages\\sklearn\\model_selection\\_validation.py\", line 866, in _fit_and_score\n",
      "    estimator.fit(X_train, y_train, **fit_params)\n",
      "  File \"c:\\Users\\nguye\\anaconda3\\envs\\NLP\\Lib\\site-packages\\sklearn\\base.py\", line 1382, in wrapper\n",
      "    estimator._validate_params()\n",
      "  File \"c:\\Users\\nguye\\anaconda3\\envs\\NLP\\Lib\\site-packages\\sklearn\\base.py\", line 436, in _validate_params\n",
      "    validate_parameter_constraints(\n",
      "  File \"c:\\Users\\nguye\\anaconda3\\envs\\NLP\\Lib\\site-packages\\sklearn\\utils\\_param_validation.py\", line 98, in validate_parameter_constraints\n",
      "    raise InvalidParameterError(\n",
      "sklearn.utils._param_validation.InvalidParameterError: The 'weights' parameter of KNeighborsClassifier must be a str among {'distance', 'uniform'}, a callable or None. Got 'kernel' instead.\n",
      "\n",
      "  warnings.warn(some_fits_failed_message, FitFailedWarning)\n",
      "c:\\Users\\nguye\\anaconda3\\envs\\NLP\\Lib\\site-packages\\sklearn\\model_selection\\_search.py:1107: UserWarning: One or more of the test scores are non-finite: [0.75491673 0.77506313        nan 0.75904284 0.77205065        nan\n",
      " 0.74460834 0.75745704        nan 0.75460103 0.77633297        nan\n",
      " 0.76015281 0.7756983         nan 0.74381569 0.75396851        nan]\n",
      "  warnings.warn(\n"
     ]
    },
    {
     "name": "stdout",
     "output_type": "stream",
     "text": [
      "Best parameters for KNN: {'metric': 'manhattan', 'n_neighbors': 5, 'weights': 'distance'}\n",
      "Best score for KNN: 0.7709390862944162\n"
     ]
    }
   ],
   "source": [
    "knn_params = {'n_neighbors': [5, 10, 27],\n",
    "              'weights': ['uniform', 'distance', 'kernel'], \n",
    "              'metric': ['euclidean', 'manhattan']}\n",
    "\n",
    "knn = KNeighborsClassifier()\n",
    "knn_cv = GridSearchCV(knn, knn_params, cv=5, verbose=2, n_jobs=-1)\n",
    "# knn_cv = GridSearchCV(knn, knn_params, cv=5, verbose=1)\n",
    "knn_cv.fit(X_train, y_train)\n",
    "\n",
    "knn_val_pred = knn_cv.predict(X_val)\n",
    "knn_val_accuracy = accuracy_score(y_val, knn_val_pred)\n",
    "\n",
    "print('Best parameters for KNN:', knn_cv.best_params_)\n",
    "print('Best score for KNN:', knn_val_accuracy)"
   ]
  },
  {
   "cell_type": "markdown",
   "id": "e5150b55",
   "metadata": {},
   "source": [
    "### Random Forest"
   ]
  },
  {
   "cell_type": "code",
   "execution_count": 14,
   "id": "e963658f",
   "metadata": {},
   "outputs": [
    {
     "name": "stdout",
     "output_type": "stream",
     "text": [
      "Fitting 5 folds for each of 108 candidates, totalling 540 fits\n",
      "Best parameters for Random Forest: {'max_depth': 30, 'min_samples_leaf': 1, 'min_samples_split': 2, 'n_estimators': 500}\n",
      "Best score for Random Forest: 0.7576142131979695\n"
     ]
    }
   ],
   "source": [
    "rf_params = {'n_estimators': [100, 200, 500],\n",
    "             'max_depth': [None, 10, 20, 30],\n",
    "             'min_samples_leaf': [1, 2, 4], \n",
    "             'min_samples_split': [2, 5, 10]}\n",
    "\n",
    "rf = RandomForestClassifier(random_state=42)\n",
    "rf_cv = GridSearchCV(rf, rf_params, cv=5, verbose=2, n_jobs=-1)\n",
    "# rf_cv = GridSearchCV(rf, rf_params, cv=5, verbose=1)\n",
    "rf_cv.fit(X_train, y_train)\n",
    "\n",
    "rf_val_pred = rf_cv.predict(X_val)\n",
    "rf_val_accuracy = accuracy_score(y_val, rf_val_pred)\n",
    "\n",
    "print('Best parameters for Random Forest:', rf_cv.best_params_)\n",
    "print('Best score for Random Forest:', rf_val_accuracy)"
   ]
  },
  {
   "cell_type": "markdown",
   "id": "08486cd4",
   "metadata": {},
   "source": [
    "### XGBoost"
   ]
  },
  {
   "cell_type": "code",
   "execution_count": 12,
   "id": "fd068720",
   "metadata": {},
   "outputs": [
    {
     "name": "stdout",
     "output_type": "stream",
     "text": [
      "Fitting 5 folds for each of 27 candidates, totalling 135 fits\n",
      "Best parameters for XGBoost: {'learning_rate': 0.1, 'max_depth': 3, 'n_estimators': 500}\n",
      "Best score for XGBoost: 0.7887055837563451\n"
     ]
    }
   ],
   "source": [
    "xgb_params = {'n_estimators': [100, 200, 500],\n",
    "              'max_depth': [3, 5, 7], \n",
    "              'learning_rate': [0.01, 0.1, 0.2]}\n",
    "\n",
    "xgb = XGBClassifier(random_state=42)\n",
    "# xgb_cv = GridSearchCV(xgb, xgb_params, cv=5, verbose=1, n_jobs=-1)\n",
    "xgb_cv = GridSearchCV(xgb, xgb_params, cv=5, verbose=1)\n",
    "xgb_cv.fit(X_train, y_train)\n",
    "\n",
    "xgb_val_pred = xgb_cv.predict(X_val)\n",
    "xgb_val_accuracy = accuracy_score(y_val, xgb_val_pred)\n",
    "\n",
    "print('Best parameters for XGBoost:', xgb_cv.best_params_)\n",
    "print('Best score for XGBoost:', xgb_val_accuracy)"
   ]
  },
  {
   "cell_type": "code",
   "execution_count": null,
   "id": "8d1534db",
   "metadata": {},
   "outputs": [],
   "source": []
  }
 ],
 "metadata": {
  "kernelspec": {
   "display_name": "NLP",
   "language": "python",
   "name": "python3"
  },
  "language_info": {
   "codemirror_mode": {
    "name": "ipython",
    "version": 3
   },
   "file_extension": ".py",
   "mimetype": "text/x-python",
   "name": "python",
   "nbconvert_exporter": "python",
   "pygments_lexer": "ipython3",
   "version": "3.12.8"
  }
 },
 "nbformat": 4,
 "nbformat_minor": 5
}
